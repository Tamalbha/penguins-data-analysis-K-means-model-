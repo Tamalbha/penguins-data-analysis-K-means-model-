{
 "cells": [
  {
   "cell_type": "markdown",
   "id": "9d2c4e61",
   "metadata": {
    "id": "700acefd-8120-42a9-a650-c610467e2a4c",
    "papermill": {
     "duration": 0.025165,
     "end_time": "2024-02-19T10:35:28.736103",
     "exception": false,
     "start_time": "2024-02-19T10:35:28.710938",
     "status": "completed"
    },
    "tags": []
   },
   "source": [
    "# Build a K-means model\n",
    "\n",
    "## **Introduction**\n",
    "\n",
    "K-means clustering is very effective when segmenting data and attempting to find patterns. Because clustering is used in a broad array of industries, becoming proficient in this process will help you expand your skillset in a widely applicable way.   \n",
    "\n",
    "In this activity, you are a consultant for a scientific organization that works to support and sustain penguin colonies. You are tasked with helping other staff members learn more about penguins in order to achieve this mission. \n",
    "\n",
    "The data for this activity is in a spreadsheet that includes datapoints across a sample size of 345 penguins, such as species, island, and sex. Your will use a K-means clustering model to group this data and identify patterns that provide important insights about penguins.\n",
    "\n",
    "**Note:** Because this lab uses a real dataset, this notebook will first require basic EDA, data cleaning, and other manipulations to prepare the data for modeling. "
   ]
  },
  {
   "cell_type": "markdown",
   "id": "150ba501",
   "metadata": {
    "id": "b42252b9-b980-4ee0-8cfd-82f4239b6d1a",
    "papermill": {
     "duration": 0.025366,
     "end_time": "2024-02-19T10:35:28.786819",
     "exception": false,
     "start_time": "2024-02-19T10:35:28.761453",
     "status": "completed"
    },
    "tags": []
   },
   "source": [
    "## **Step 1: Imports** "
   ]
  },
  {
   "cell_type": "markdown",
   "id": "d960f110",
   "metadata": {
    "id": "oz38PANKW0ys",
    "papermill": {
     "duration": 0.024564,
     "end_time": "2024-02-19T10:35:28.837502",
     "exception": false,
     "start_time": "2024-02-19T10:35:28.812938",
     "status": "completed"
    },
    "tags": []
   },
   "source": [
    "Import statements including `K-means`, `silhouette_score`, and `StandardScaler`.### Import packages."
   ]
  },
  {
   "cell_type": "code",
   "execution_count": 1,
   "id": "02145715",
   "metadata": {
    "execution": {
     "iopub.execute_input": "2024-02-19T10:35:28.890612Z",
     "iopub.status.busy": "2024-02-19T10:35:28.890225Z",
     "iopub.status.idle": "2024-02-19T10:35:32.155333Z",
     "shell.execute_reply": "2024-02-19T10:35:32.154312Z"
    },
    "id": "aacf7b0d-d652-46c4-a9fc-f1ff377bdd0c",
    "papermill": {
     "duration": 3.294315,
     "end_time": "2024-02-19T10:35:32.158190",
     "exception": false,
     "start_time": "2024-02-19T10:35:28.863875",
     "status": "completed"
    },
    "tags": []
   },
   "outputs": [],
   "source": [
    "# Import standard operational packages.\n",
    "import numpy as np\n",
    "import pandas as pd\n",
    "\n",
    "# Important tools for modeling and evaluation.\n",
    "from sklearn.cluster import KMeans\n",
    "from sklearn.metrics import silhouette_score\n",
    "from sklearn.preprocessing import StandardScaler\n",
    "\n",
    "# Import visualization packages.\n",
    "import matplotlib.pyplot as plt\n",
    "import seaborn as sns"
   ]
  },
  {
   "cell_type": "markdown",
   "id": "460fbf10",
   "metadata": {
    "id": "6b7f8803-44ee-47cf-b97a-efaf5c0fdd59",
    "papermill": {
     "duration": 0.023775,
     "end_time": "2024-02-19T10:35:32.206279",
     "exception": false,
     "start_time": "2024-02-19T10:35:32.182504",
     "status": "completed"
    },
    "tags": []
   },
   "source": [
    "`Pandas` is used to load the penguins dataset, which is built into the `seaborn` library. The resulting `pandas` DataFrame is saved in a variable named `penguins`. As shown in this cell, the dataset has been automatically loaded in for you. You do not need to download the .csv file, or provide more code, in order to access the dataset and proceed with this lab. Please continue with this activity by completing the following instructions."
   ]
  },
  {
   "cell_type": "code",
   "execution_count": 2,
   "id": "2b697215",
   "metadata": {
    "execution": {
     "iopub.execute_input": "2024-02-19T10:35:32.256713Z",
     "iopub.status.busy": "2024-02-19T10:35:32.256206Z",
     "iopub.status.idle": "2024-02-19T10:35:32.284883Z",
     "shell.execute_reply": "2024-02-19T10:35:32.283840Z"
    },
    "id": "80535d2f-8b1a-4715-b07a-f3734d8cc4c5",
    "papermill": {
     "duration": 0.057496,
     "end_time": "2024-02-19T10:35:32.287929",
     "exception": false,
     "start_time": "2024-02-19T10:35:32.230433",
     "status": "completed"
    },
    "tags": []
   },
   "outputs": [],
   "source": [
    "# RUN THIS CELL TO IMPORT YOUR DATA. \n",
    "\n",
    "# Save the `pandas` DataFrame in variable `penguins`. \n",
    "\n",
    "penguins = pd.read_csv(\"/kaggle/input/penguins-data/penguins.csv\")"
   ]
  },
  {
   "cell_type": "markdown",
   "id": "db6fe348",
   "metadata": {
    "id": "0irW2qcaah5S",
    "papermill": {
     "duration": 0.024011,
     "end_time": "2024-02-19T10:35:32.336420",
     "exception": false,
     "start_time": "2024-02-19T10:35:32.312409",
     "status": "completed"
    },
    "tags": []
   },
   "source": [
    "<details>\n",
    "  <summary><h4><strong>Hint 1</strong></h4></summary>\n",
    "\n",
    "Use the `load_dataset` function. \n",
    "\n",
    "</details>"
   ]
  },
  {
   "cell_type": "markdown",
   "id": "7ecb1690",
   "metadata": {
    "papermill": {
     "duration": 0.023618,
     "end_time": "2024-02-19T10:35:32.384211",
     "exception": false,
     "start_time": "2024-02-19T10:35:32.360593",
     "status": "completed"
    },
    "tags": []
   },
   "source": [
    "<details>\n",
    "  <summary><h4><strong>Hint 2</strong></h4></summary>\n",
    "\n",
    "The function is from seaborn (`sns`). It should be passed in the dataset name `'penguins'` as a string. \n",
    "\n",
    "</details>"
   ]
  },
  {
   "cell_type": "markdown",
   "id": "ae3f38a1",
   "metadata": {
    "id": "46448192-f2f8-4f78-9f76-6e4bb699da7b",
    "papermill": {
     "duration": 0.023809,
     "end_time": "2024-02-19T10:35:32.432472",
     "exception": false,
     "start_time": "2024-02-19T10:35:32.408663",
     "status": "completed"
    },
    "tags": []
   },
   "source": [
    "Now, review the first 10 rows of data.\n"
   ]
  },
  {
   "cell_type": "code",
   "execution_count": 3,
   "id": "88c7fc3d",
   "metadata": {
    "execution": {
     "iopub.execute_input": "2024-02-19T10:35:32.483061Z",
     "iopub.status.busy": "2024-02-19T10:35:32.482635Z",
     "iopub.status.idle": "2024-02-19T10:35:32.508857Z",
     "shell.execute_reply": "2024-02-19T10:35:32.507616Z"
    },
    "executionInfo": {
     "elapsed": 9,
     "status": "ok",
     "timestamp": 1659750060507,
     "user": {
      "displayName": "Gracen Hanley",
      "userId": "14517815644308397440"
     },
     "user_tz": 420
    },
    "id": "U8JZjN-zJwx6",
    "outputId": "7571def2-c508-4c6a-cb35-8f35e9657fdb",
    "papermill": {
     "duration": 0.055116,
     "end_time": "2024-02-19T10:35:32.511518",
     "exception": false,
     "start_time": "2024-02-19T10:35:32.456402",
     "status": "completed"
    },
    "tags": []
   },
   "outputs": [
    {
     "data": {
      "text/html": [
       "<div>\n",
       "<style scoped>\n",
       "    .dataframe tbody tr th:only-of-type {\n",
       "        vertical-align: middle;\n",
       "    }\n",
       "\n",
       "    .dataframe tbody tr th {\n",
       "        vertical-align: top;\n",
       "    }\n",
       "\n",
       "    .dataframe thead th {\n",
       "        text-align: right;\n",
       "    }\n",
       "</style>\n",
       "<table border=\"1\" class=\"dataframe\">\n",
       "  <thead>\n",
       "    <tr style=\"text-align: right;\">\n",
       "      <th></th>\n",
       "      <th>species</th>\n",
       "      <th>island</th>\n",
       "      <th>bill_length_mm</th>\n",
       "      <th>bill_depth_mm</th>\n",
       "      <th>flipper_length_mm</th>\n",
       "      <th>body_mass_g</th>\n",
       "      <th>sex</th>\n",
       "    </tr>\n",
       "  </thead>\n",
       "  <tbody>\n",
       "    <tr>\n",
       "      <th>0</th>\n",
       "      <td>Adelie</td>\n",
       "      <td>Torgersen</td>\n",
       "      <td>39.1</td>\n",
       "      <td>18.7</td>\n",
       "      <td>181.0</td>\n",
       "      <td>3750.0</td>\n",
       "      <td>male</td>\n",
       "    </tr>\n",
       "    <tr>\n",
       "      <th>1</th>\n",
       "      <td>Adelie</td>\n",
       "      <td>Torgersen</td>\n",
       "      <td>39.5</td>\n",
       "      <td>17.4</td>\n",
       "      <td>186.0</td>\n",
       "      <td>3800.0</td>\n",
       "      <td>female</td>\n",
       "    </tr>\n",
       "    <tr>\n",
       "      <th>2</th>\n",
       "      <td>Adelie</td>\n",
       "      <td>Torgersen</td>\n",
       "      <td>40.3</td>\n",
       "      <td>18.0</td>\n",
       "      <td>195.0</td>\n",
       "      <td>3250.0</td>\n",
       "      <td>female</td>\n",
       "    </tr>\n",
       "    <tr>\n",
       "      <th>3</th>\n",
       "      <td>Adelie</td>\n",
       "      <td>Torgersen</td>\n",
       "      <td>NaN</td>\n",
       "      <td>NaN</td>\n",
       "      <td>NaN</td>\n",
       "      <td>NaN</td>\n",
       "      <td>NaN</td>\n",
       "    </tr>\n",
       "    <tr>\n",
       "      <th>4</th>\n",
       "      <td>Adelie</td>\n",
       "      <td>Torgersen</td>\n",
       "      <td>36.7</td>\n",
       "      <td>19.3</td>\n",
       "      <td>193.0</td>\n",
       "      <td>3450.0</td>\n",
       "      <td>female</td>\n",
       "    </tr>\n",
       "    <tr>\n",
       "      <th>5</th>\n",
       "      <td>Adelie</td>\n",
       "      <td>Torgersen</td>\n",
       "      <td>39.3</td>\n",
       "      <td>20.6</td>\n",
       "      <td>190.0</td>\n",
       "      <td>3650.0</td>\n",
       "      <td>male</td>\n",
       "    </tr>\n",
       "    <tr>\n",
       "      <th>6</th>\n",
       "      <td>Adelie</td>\n",
       "      <td>Torgersen</td>\n",
       "      <td>38.9</td>\n",
       "      <td>17.8</td>\n",
       "      <td>181.0</td>\n",
       "      <td>3625.0</td>\n",
       "      <td>female</td>\n",
       "    </tr>\n",
       "    <tr>\n",
       "      <th>7</th>\n",
       "      <td>Adelie</td>\n",
       "      <td>Torgersen</td>\n",
       "      <td>39.2</td>\n",
       "      <td>19.6</td>\n",
       "      <td>195.0</td>\n",
       "      <td>4675.0</td>\n",
       "      <td>male</td>\n",
       "    </tr>\n",
       "    <tr>\n",
       "      <th>8</th>\n",
       "      <td>Adelie</td>\n",
       "      <td>Torgersen</td>\n",
       "      <td>34.1</td>\n",
       "      <td>18.1</td>\n",
       "      <td>193.0</td>\n",
       "      <td>3475.0</td>\n",
       "      <td>NaN</td>\n",
       "    </tr>\n",
       "    <tr>\n",
       "      <th>9</th>\n",
       "      <td>Adelie</td>\n",
       "      <td>Torgersen</td>\n",
       "      <td>42.0</td>\n",
       "      <td>20.2</td>\n",
       "      <td>190.0</td>\n",
       "      <td>4250.0</td>\n",
       "      <td>NaN</td>\n",
       "    </tr>\n",
       "  </tbody>\n",
       "</table>\n",
       "</div>"
      ],
      "text/plain": [
       "  species     island  bill_length_mm  bill_depth_mm  flipper_length_mm  \\\n",
       "0  Adelie  Torgersen            39.1           18.7              181.0   \n",
       "1  Adelie  Torgersen            39.5           17.4              186.0   \n",
       "2  Adelie  Torgersen            40.3           18.0              195.0   \n",
       "3  Adelie  Torgersen             NaN            NaN                NaN   \n",
       "4  Adelie  Torgersen            36.7           19.3              193.0   \n",
       "5  Adelie  Torgersen            39.3           20.6              190.0   \n",
       "6  Adelie  Torgersen            38.9           17.8              181.0   \n",
       "7  Adelie  Torgersen            39.2           19.6              195.0   \n",
       "8  Adelie  Torgersen            34.1           18.1              193.0   \n",
       "9  Adelie  Torgersen            42.0           20.2              190.0   \n",
       "\n",
       "   body_mass_g     sex  \n",
       "0       3750.0    male  \n",
       "1       3800.0  female  \n",
       "2       3250.0  female  \n",
       "3          NaN     NaN  \n",
       "4       3450.0  female  \n",
       "5       3650.0    male  \n",
       "6       3625.0  female  \n",
       "7       4675.0    male  \n",
       "8       3475.0     NaN  \n",
       "9       4250.0     NaN  "
      ]
     },
     "execution_count": 3,
     "metadata": {},
     "output_type": "execute_result"
    }
   ],
   "source": [
    "# Review the first 10 rows.\n",
    "\n",
    "penguins.head(n = 10)"
   ]
  },
  {
   "cell_type": "markdown",
   "id": "2f331c63",
   "metadata": {
    "id": "tooWlpMBHqoi",
    "papermill": {
     "duration": 0.024472,
     "end_time": "2024-02-19T10:35:32.560644",
     "exception": false,
     "start_time": "2024-02-19T10:35:32.536172",
     "status": "completed"
    },
    "tags": []
   },
   "source": [
    "<details>\n",
    "  <summary><h4><strong>Hint 1</strong></h4></summary>\n",
    "\n",
    "Use the `head()` method.\n",
    "\n",
    "</details>"
   ]
  },
  {
   "cell_type": "markdown",
   "id": "b5e89b40",
   "metadata": {
    "id": "Fg0PhE51Kiz6",
    "papermill": {
     "duration": 0.024113,
     "end_time": "2024-02-19T10:35:32.609328",
     "exception": false,
     "start_time": "2024-02-19T10:35:32.585215",
     "status": "completed"
    },
    "tags": []
   },
   "source": [
    "<details>\n",
    "  <summary><h4><strong>Hint 2</strong></h4></summary>\n",
    "\n",
    "By default, the method only returns five rows. To change this, specify how many rows `(n = )` you want.\n",
    "\n",
    "</details>"
   ]
  },
  {
   "cell_type": "markdown",
   "id": "96eb4c08",
   "metadata": {
    "id": "ec269f85-6622-4f82-bdcd-1874224a4052",
    "papermill": {
     "duration": 0.024465,
     "end_time": "2024-02-19T10:35:32.660313",
     "exception": false,
     "start_time": "2024-02-19T10:35:32.635848",
     "status": "completed"
    },
    "tags": []
   },
   "source": [
    "## **Step 2: Data exploration** \n",
    "\n",
    "After loading the dataset, the next step is to prepare the data to be suitable for clustering. This includes: \n",
    "\n",
    "*   Exploring data\n",
    "*   Checking for missing values\n",
    "*   Encoding data \n",
    "*   Dropping a column\n",
    "*   Scaling the features using `StandardScaler`"
   ]
  },
  {
   "cell_type": "markdown",
   "id": "d4f6d0ee",
   "metadata": {
    "id": "d7ccd368",
    "papermill": {
     "duration": 0.025285,
     "end_time": "2024-02-19T10:35:32.710191",
     "exception": false,
     "start_time": "2024-02-19T10:35:32.684906",
     "status": "completed"
    },
    "tags": []
   },
   "source": [
    "### Explore data\n",
    "\n",
    "To cluster penguins of multiple different species, determine how many different types of penguin species are in the dataset."
   ]
  },
  {
   "cell_type": "code",
   "execution_count": 4,
   "id": "0c7e7564",
   "metadata": {
    "execution": {
     "iopub.execute_input": "2024-02-19T10:35:32.762285Z",
     "iopub.status.busy": "2024-02-19T10:35:32.761901Z",
     "iopub.status.idle": "2024-02-19T10:35:32.774623Z",
     "shell.execute_reply": "2024-02-19T10:35:32.773272Z"
    },
    "executionInfo": {
     "elapsed": 225,
     "status": "ok",
     "timestamp": 1659750060726,
     "user": {
      "displayName": "Gracen Hanley",
      "userId": "14517815644308397440"
     },
     "user_tz": 420
    },
    "id": "8098d8a3",
    "outputId": "badc73a1-21ba-47f9-a2b4-a8d4fa52c07a",
    "papermill": {
     "duration": 0.041851,
     "end_time": "2024-02-19T10:35:32.776806",
     "exception": false,
     "start_time": "2024-02-19T10:35:32.734955",
     "status": "completed"
    },
    "tags": []
   },
   "outputs": [
    {
     "data": {
      "text/plain": [
       "array(['Adelie', 'Chinstrap', 'Gentoo'], dtype=object)"
      ]
     },
     "execution_count": 4,
     "metadata": {},
     "output_type": "execute_result"
    }
   ],
   "source": [
    "# Find out how many penguin types there are.\n",
    "\n",
    "penguins['species'].unique()"
   ]
  },
  {
   "cell_type": "markdown",
   "id": "e8f8464b",
   "metadata": {
    "id": "9221f9a4",
    "papermill": {
     "duration": 0.025628,
     "end_time": "2024-02-19T10:35:32.827323",
     "exception": false,
     "start_time": "2024-02-19T10:35:32.801695",
     "status": "completed"
    },
    "tags": []
   },
   "source": [
    "<details>\n",
    "  <summary><h4><strong>Hint 1</strong></h4></summary>\n",
    "\n",
    "Use the `unique()` method.\n",
    "\n",
    "</details>"
   ]
  },
  {
   "cell_type": "markdown",
   "id": "58f906ce",
   "metadata": {
    "id": "62d8c90f",
    "papermill": {
     "duration": 0.026198,
     "end_time": "2024-02-19T10:35:32.878267",
     "exception": false,
     "start_time": "2024-02-19T10:35:32.852069",
     "status": "completed"
    },
    "tags": []
   },
   "source": [
    "<details>\n",
    "  <summary><h4><strong>Hint 2</strong></h4></summary>\n",
    "\n",
    "Use the `unique()` method on the column `'species'`.\n",
    "\n",
    "</details>"
   ]
  },
  {
   "cell_type": "code",
   "execution_count": 5,
   "id": "ba8c481c",
   "metadata": {
    "execution": {
     "iopub.execute_input": "2024-02-19T10:35:32.996890Z",
     "iopub.status.busy": "2024-02-19T10:35:32.996484Z",
     "iopub.status.idle": "2024-02-19T10:35:33.010503Z",
     "shell.execute_reply": "2024-02-19T10:35:33.009149Z"
    },
    "executionInfo": {
     "elapsed": 5,
     "status": "ok",
     "timestamp": 1659750060727,
     "user": {
      "displayName": "Gracen Hanley",
      "userId": "14517815644308397440"
     },
     "user_tz": 420
    },
    "id": "1730341a",
    "outputId": "12a322fa-9ea4-4adc-ee63-360d859e7991",
    "papermill": {
     "duration": 0.109636,
     "end_time": "2024-02-19T10:35:33.012988",
     "exception": false,
     "start_time": "2024-02-19T10:35:32.903352",
     "status": "completed"
    },
    "tags": []
   },
   "outputs": [
    {
     "data": {
      "text/plain": [
       "species\n",
       "Adelie       152\n",
       "Gentoo       124\n",
       "Chinstrap     68\n",
       "Name: count, dtype: int64"
      ]
     },
     "execution_count": 5,
     "metadata": {},
     "output_type": "execute_result"
    }
   ],
   "source": [
    "# Find the count of each species type.\n",
    "\n",
    "penguins['species'].value_counts(dropna = False)"
   ]
  },
  {
   "cell_type": "markdown",
   "id": "707a3c26",
   "metadata": {
    "id": "74fe9495",
    "papermill": {
     "duration": 0.024548,
     "end_time": "2024-02-19T10:35:33.063696",
     "exception": false,
     "start_time": "2024-02-19T10:35:33.039148",
     "status": "completed"
    },
    "tags": []
   },
   "source": [
    "<details>\n",
    "  <summary><h4><strong>Hint 1</strong></h4></summary>\n",
    "\n",
    "Use the `value_counts()` method.\n",
    "\n",
    "</details>"
   ]
  },
  {
   "cell_type": "markdown",
   "id": "9898e65e",
   "metadata": {
    "id": "a65b62e6",
    "papermill": {
     "duration": 0.024931,
     "end_time": "2024-02-19T10:35:33.114405",
     "exception": false,
     "start_time": "2024-02-19T10:35:33.089474",
     "status": "completed"
    },
    "tags": []
   },
   "source": [
    "<details>\n",
    "  <summary><h4><strong>Hint 2</strong></h4></summary>\n",
    "\n",
    "Use the `value_counts()` method on the column `'species'`.\n",
    "\n",
    "</details>"
   ]
  },
  {
   "cell_type": "markdown",
   "id": "d42d543e",
   "metadata": {
    "id": "a2ae00e8",
    "papermill": {
     "duration": 0.024667,
     "end_time": "2024-02-19T10:35:33.165345",
     "exception": false,
     "start_time": "2024-02-19T10:35:33.140678",
     "status": "completed"
    },
    "tags": []
   },
   "source": [
    "**Question:** How many types of species are present in the dataset?\n",
    "\n",
    "There are three types of species. Note the Chinstrap species is less common than the other species. This has a chance to affect K-means clustering as K-means performs best with similar sized groupings."
   ]
  },
  {
   "cell_type": "markdown",
   "id": "1fd0af79",
   "metadata": {
    "id": "1f175bc9",
    "papermill": {
     "duration": 0.025489,
     "end_time": "2024-02-19T10:35:33.216114",
     "exception": false,
     "start_time": "2024-02-19T10:35:33.190625",
     "status": "completed"
    },
    "tags": []
   },
   "source": [
    "**Question:** Why is it helpful to determine the perfect number of clusters using K-means when you already know how many penguin species the dataset contains?\n",
    "\n",
    "For purposes of clustering, pretend you don't know that there are three different types of species. Then, you can explore whether the algorithm can discover the different species. You might even find other relationships in the data."
   ]
  },
  {
   "cell_type": "markdown",
   "id": "4113b406",
   "metadata": {
    "id": "4222ca54",
    "papermill": {
     "duration": 0.024945,
     "end_time": "2024-02-19T10:35:33.266199",
     "exception": false,
     "start_time": "2024-02-19T10:35:33.241254",
     "status": "completed"
    },
    "tags": []
   },
   "source": [
    "### Check for missing values"
   ]
  },
  {
   "cell_type": "markdown",
   "id": "12898d1f",
   "metadata": {
    "id": "TgANHJBVxpbI",
    "papermill": {
     "duration": 0.025422,
     "end_time": "2024-02-19T10:35:33.317801",
     "exception": false,
     "start_time": "2024-02-19T10:35:33.292379",
     "status": "completed"
    },
    "tags": []
   },
   "source": [
    "An assumption of K-means is that there are no missing values. Check for missing values in the rows of the data. "
   ]
  },
  {
   "cell_type": "code",
   "execution_count": 6,
   "id": "45f67b90",
   "metadata": {
    "execution": {
     "iopub.execute_input": "2024-02-19T10:35:33.371400Z",
     "iopub.status.busy": "2024-02-19T10:35:33.370714Z",
     "iopub.status.idle": "2024-02-19T10:35:33.381222Z",
     "shell.execute_reply": "2024-02-19T10:35:33.380086Z"
    },
    "executionInfo": {
     "elapsed": 4,
     "status": "ok",
     "timestamp": 1659750060727,
     "user": {
      "displayName": "Gracen Hanley",
      "userId": "14517815644308397440"
     },
     "user_tz": 420
    },
    "id": "3_SVlY1VpY4h",
    "outputId": "af5e3e1c-89ff-4de9-8ef3-20e0570fe893",
    "papermill": {
     "duration": 0.039926,
     "end_time": "2024-02-19T10:35:33.383425",
     "exception": false,
     "start_time": "2024-02-19T10:35:33.343499",
     "status": "completed"
    },
    "tags": []
   },
   "outputs": [
    {
     "data": {
      "text/plain": [
       "species               0\n",
       "island                0\n",
       "bill_length_mm        2\n",
       "bill_depth_mm         2\n",
       "flipper_length_mm     2\n",
       "body_mass_g           2\n",
       "sex                  11\n",
       "dtype: int64"
      ]
     },
     "execution_count": 6,
     "metadata": {},
     "output_type": "execute_result"
    }
   ],
   "source": [
    "# Check for missing values.\n",
    "\n",
    "penguins.isnull().sum()"
   ]
  },
  {
   "cell_type": "markdown",
   "id": "25e95501",
   "metadata": {
    "id": "ptn9xlIjJOAL",
    "papermill": {
     "duration": 0.025022,
     "end_time": "2024-02-19T10:35:33.433446",
     "exception": false,
     "start_time": "2024-02-19T10:35:33.408424",
     "status": "completed"
    },
    "tags": []
   },
   "source": [
    "<details>\n",
    "  <summary><h4><strong>Hint 1</strong></h4></summary>\n",
    "\n",
    "Use the `isnull` and `sum` methods. \n",
    "\n",
    "</details>"
   ]
  },
  {
   "cell_type": "markdown",
   "id": "4023eeab",
   "metadata": {
    "id": "eb005a73-4621-45b9-8114-30472ce20327",
    "papermill": {
     "duration": 0.024844,
     "end_time": "2024-02-19T10:35:33.483420",
     "exception": false,
     "start_time": "2024-02-19T10:35:33.458576",
     "status": "completed"
    },
    "tags": []
   },
   "source": [
    "Now, drop the rows with missing values and save the resulting pandas DataFrame in a variable named `penguins_subset`."
   ]
  },
  {
   "cell_type": "code",
   "execution_count": 7,
   "id": "1281d9cf",
   "metadata": {
    "execution": {
     "iopub.execute_input": "2024-02-19T10:35:33.536666Z",
     "iopub.status.busy": "2024-02-19T10:35:33.536025Z",
     "iopub.status.idle": "2024-02-19T10:35:33.547294Z",
     "shell.execute_reply": "2024-02-19T10:35:33.546164Z"
    },
    "id": "1cee438e-8b1f-4855-855e-3723d1958b69",
    "papermill": {
     "duration": 0.041148,
     "end_time": "2024-02-19T10:35:33.549790",
     "exception": false,
     "start_time": "2024-02-19T10:35:33.508642",
     "status": "completed"
    },
    "tags": []
   },
   "outputs": [],
   "source": [
    "# Drop rows with missing values.\n",
    "# Save DataFrame in variable `penguins_subset`.\n",
    "\n",
    "penguins_subset = penguins.dropna(axis=0).reset_index(drop = True)"
   ]
  },
  {
   "cell_type": "markdown",
   "id": "9c715cb0",
   "metadata": {
    "id": "dec2a35e-ba31-4ec8-b8fc-1c0bdf075d19",
    "papermill": {
     "duration": 0.025348,
     "end_time": "2024-02-19T10:35:33.602340",
     "exception": false,
     "start_time": "2024-02-19T10:35:33.576992",
     "status": "completed"
    },
    "tags": []
   },
   "source": [
    "<details>\n",
    "  <summary><h4><strong>Hint 1</strong></h4></summary>\n",
    "\n",
    "Use `dropna`. Note that an axis parameter passed in to this function should be set to 0 if you want to drop rows containing missing values or 1 if you want to drop columns containing missing values. Optionally, `reset_index` may also be used to avoid a SettingWithCopy warning later in the notebook. \n",
    "</details>"
   ]
  },
  {
   "cell_type": "markdown",
   "id": "4bfa7c0c",
   "metadata": {
    "id": "ymfmX-WvW31z",
    "papermill": {
     "duration": 0.025093,
     "end_time": "2024-02-19T10:35:33.653102",
     "exception": false,
     "start_time": "2024-02-19T10:35:33.628009",
     "status": "completed"
    },
    "tags": []
   },
   "source": [
    "Next, check to make sure that `penguins_subset` does not contain any missing values."
   ]
  },
  {
   "cell_type": "code",
   "execution_count": 8,
   "id": "5361a33a",
   "metadata": {
    "execution": {
     "iopub.execute_input": "2024-02-19T10:35:33.706628Z",
     "iopub.status.busy": "2024-02-19T10:35:33.705934Z",
     "iopub.status.idle": "2024-02-19T10:35:33.714768Z",
     "shell.execute_reply": "2024-02-19T10:35:33.713637Z"
    },
    "executionInfo": {
     "elapsed": 3,
     "status": "ok",
     "timestamp": 1659750060906,
     "user": {
      "displayName": "Gracen Hanley",
      "userId": "14517815644308397440"
     },
     "user_tz": 420
    },
    "id": "n36d4yztW4BA",
    "outputId": "be26df3e-b0a1-4386-e357-2e3a45bbe7fa",
    "papermill": {
     "duration": 0.038303,
     "end_time": "2024-02-19T10:35:33.717147",
     "exception": false,
     "start_time": "2024-02-19T10:35:33.678844",
     "status": "completed"
    },
    "tags": []
   },
   "outputs": [
    {
     "data": {
      "text/plain": [
       "species              0\n",
       "island               0\n",
       "bill_length_mm       0\n",
       "bill_depth_mm        0\n",
       "flipper_length_mm    0\n",
       "body_mass_g          0\n",
       "sex                  0\n",
       "dtype: int64"
      ]
     },
     "execution_count": 8,
     "metadata": {},
     "output_type": "execute_result"
    }
   ],
   "source": [
    "# Check for missing values.\n",
    "\n",
    "penguins_subset.isna().sum()"
   ]
  },
  {
   "cell_type": "markdown",
   "id": "ab17a9d7",
   "metadata": {
    "id": "0021b18e-4c93-4628-8d0d-2c55a98cc691",
    "papermill": {
     "duration": 0.027676,
     "end_time": "2024-02-19T10:35:33.770571",
     "exception": false,
     "start_time": "2024-02-19T10:35:33.742895",
     "status": "completed"
    },
    "tags": []
   },
   "source": [
    "Now, review the first 10 rows of the subset."
   ]
  },
  {
   "cell_type": "code",
   "execution_count": 9,
   "id": "ca025a3a",
   "metadata": {
    "execution": {
     "iopub.execute_input": "2024-02-19T10:35:33.824347Z",
     "iopub.status.busy": "2024-02-19T10:35:33.823696Z",
     "iopub.status.idle": "2024-02-19T10:35:33.844866Z",
     "shell.execute_reply": "2024-02-19T10:35:33.843461Z"
    },
    "executionInfo": {
     "elapsed": 6,
     "status": "ok",
     "timestamp": 1659750061120,
     "user": {
      "displayName": "Gracen Hanley",
      "userId": "14517815644308397440"
     },
     "user_tz": 420
    },
    "id": "a58b4d77-6023-428d-89aa-4d2ac52003dc",
    "outputId": "4de21e45-82eb-4fd0-ac51-bc090944571c",
    "papermill": {
     "duration": 0.051654,
     "end_time": "2024-02-19T10:35:33.847641",
     "exception": false,
     "start_time": "2024-02-19T10:35:33.795987",
     "status": "completed"
    },
    "tags": []
   },
   "outputs": [
    {
     "data": {
      "text/html": [
       "<div>\n",
       "<style scoped>\n",
       "    .dataframe tbody tr th:only-of-type {\n",
       "        vertical-align: middle;\n",
       "    }\n",
       "\n",
       "    .dataframe tbody tr th {\n",
       "        vertical-align: top;\n",
       "    }\n",
       "\n",
       "    .dataframe thead th {\n",
       "        text-align: right;\n",
       "    }\n",
       "</style>\n",
       "<table border=\"1\" class=\"dataframe\">\n",
       "  <thead>\n",
       "    <tr style=\"text-align: right;\">\n",
       "      <th></th>\n",
       "      <th>species</th>\n",
       "      <th>island</th>\n",
       "      <th>bill_length_mm</th>\n",
       "      <th>bill_depth_mm</th>\n",
       "      <th>flipper_length_mm</th>\n",
       "      <th>body_mass_g</th>\n",
       "      <th>sex</th>\n",
       "    </tr>\n",
       "  </thead>\n",
       "  <tbody>\n",
       "    <tr>\n",
       "      <th>0</th>\n",
       "      <td>Adelie</td>\n",
       "      <td>Torgersen</td>\n",
       "      <td>39.1</td>\n",
       "      <td>18.7</td>\n",
       "      <td>181.0</td>\n",
       "      <td>3750.0</td>\n",
       "      <td>male</td>\n",
       "    </tr>\n",
       "    <tr>\n",
       "      <th>1</th>\n",
       "      <td>Adelie</td>\n",
       "      <td>Torgersen</td>\n",
       "      <td>39.5</td>\n",
       "      <td>17.4</td>\n",
       "      <td>186.0</td>\n",
       "      <td>3800.0</td>\n",
       "      <td>female</td>\n",
       "    </tr>\n",
       "    <tr>\n",
       "      <th>2</th>\n",
       "      <td>Adelie</td>\n",
       "      <td>Torgersen</td>\n",
       "      <td>40.3</td>\n",
       "      <td>18.0</td>\n",
       "      <td>195.0</td>\n",
       "      <td>3250.0</td>\n",
       "      <td>female</td>\n",
       "    </tr>\n",
       "    <tr>\n",
       "      <th>3</th>\n",
       "      <td>Adelie</td>\n",
       "      <td>Torgersen</td>\n",
       "      <td>36.7</td>\n",
       "      <td>19.3</td>\n",
       "      <td>193.0</td>\n",
       "      <td>3450.0</td>\n",
       "      <td>female</td>\n",
       "    </tr>\n",
       "    <tr>\n",
       "      <th>4</th>\n",
       "      <td>Adelie</td>\n",
       "      <td>Torgersen</td>\n",
       "      <td>39.3</td>\n",
       "      <td>20.6</td>\n",
       "      <td>190.0</td>\n",
       "      <td>3650.0</td>\n",
       "      <td>male</td>\n",
       "    </tr>\n",
       "    <tr>\n",
       "      <th>5</th>\n",
       "      <td>Adelie</td>\n",
       "      <td>Torgersen</td>\n",
       "      <td>38.9</td>\n",
       "      <td>17.8</td>\n",
       "      <td>181.0</td>\n",
       "      <td>3625.0</td>\n",
       "      <td>female</td>\n",
       "    </tr>\n",
       "    <tr>\n",
       "      <th>6</th>\n",
       "      <td>Adelie</td>\n",
       "      <td>Torgersen</td>\n",
       "      <td>39.2</td>\n",
       "      <td>19.6</td>\n",
       "      <td>195.0</td>\n",
       "      <td>4675.0</td>\n",
       "      <td>male</td>\n",
       "    </tr>\n",
       "    <tr>\n",
       "      <th>7</th>\n",
       "      <td>Adelie</td>\n",
       "      <td>Torgersen</td>\n",
       "      <td>41.1</td>\n",
       "      <td>17.6</td>\n",
       "      <td>182.0</td>\n",
       "      <td>3200.0</td>\n",
       "      <td>female</td>\n",
       "    </tr>\n",
       "    <tr>\n",
       "      <th>8</th>\n",
       "      <td>Adelie</td>\n",
       "      <td>Torgersen</td>\n",
       "      <td>38.6</td>\n",
       "      <td>21.2</td>\n",
       "      <td>191.0</td>\n",
       "      <td>3800.0</td>\n",
       "      <td>male</td>\n",
       "    </tr>\n",
       "    <tr>\n",
       "      <th>9</th>\n",
       "      <td>Adelie</td>\n",
       "      <td>Torgersen</td>\n",
       "      <td>34.6</td>\n",
       "      <td>21.1</td>\n",
       "      <td>198.0</td>\n",
       "      <td>4400.0</td>\n",
       "      <td>male</td>\n",
       "    </tr>\n",
       "  </tbody>\n",
       "</table>\n",
       "</div>"
      ],
      "text/plain": [
       "  species     island  bill_length_mm  bill_depth_mm  flipper_length_mm  \\\n",
       "0  Adelie  Torgersen            39.1           18.7              181.0   \n",
       "1  Adelie  Torgersen            39.5           17.4              186.0   \n",
       "2  Adelie  Torgersen            40.3           18.0              195.0   \n",
       "3  Adelie  Torgersen            36.7           19.3              193.0   \n",
       "4  Adelie  Torgersen            39.3           20.6              190.0   \n",
       "5  Adelie  Torgersen            38.9           17.8              181.0   \n",
       "6  Adelie  Torgersen            39.2           19.6              195.0   \n",
       "7  Adelie  Torgersen            41.1           17.6              182.0   \n",
       "8  Adelie  Torgersen            38.6           21.2              191.0   \n",
       "9  Adelie  Torgersen            34.6           21.1              198.0   \n",
       "\n",
       "   body_mass_g     sex  \n",
       "0       3750.0    male  \n",
       "1       3800.0  female  \n",
       "2       3250.0  female  \n",
       "3       3450.0  female  \n",
       "4       3650.0    male  \n",
       "5       3625.0  female  \n",
       "6       4675.0    male  \n",
       "7       3200.0  female  \n",
       "8       3800.0    male  \n",
       "9       4400.0    male  "
      ]
     },
     "execution_count": 9,
     "metadata": {},
     "output_type": "execute_result"
    }
   ],
   "source": [
    "# View first 10 rows. \n",
    "\n",
    "penguins_subset.head(10)"
   ]
  },
  {
   "cell_type": "markdown",
   "id": "f1f3c21d",
   "metadata": {
    "id": "d491a508",
    "papermill": {
     "duration": 0.03039,
     "end_time": "2024-02-19T10:35:33.911359",
     "exception": false,
     "start_time": "2024-02-19T10:35:33.880969",
     "status": "completed"
    },
    "tags": []
   },
   "source": [
    "### Encode data\n",
    "\n",
    "Some versions of the penguins dataset have values encoded in the sex column as 'Male' and 'Female' instead of 'MALE' and 'FEMALE'. The code below will make sure all values are ALL CAPS. \n"
   ]
  },
  {
   "cell_type": "code",
   "execution_count": 10,
   "id": "299fba07",
   "metadata": {
    "execution": {
     "iopub.execute_input": "2024-02-19T10:35:33.966397Z",
     "iopub.status.busy": "2024-02-19T10:35:33.965314Z",
     "iopub.status.idle": "2024-02-19T10:35:33.971555Z",
     "shell.execute_reply": "2024-02-19T10:35:33.970651Z"
    },
    "id": "ofs1fqq9HQ-2",
    "papermill": {
     "duration": 0.036323,
     "end_time": "2024-02-19T10:35:33.974341",
     "exception": false,
     "start_time": "2024-02-19T10:35:33.938018",
     "status": "completed"
    },
    "tags": []
   },
   "outputs": [],
   "source": [
    "penguins_subset['sex'] = penguins_subset['sex'].str.upper()"
   ]
  },
  {
   "cell_type": "markdown",
   "id": "d2dcf7ca",
   "metadata": {
    "id": "EO5fqIwUHOmi",
    "papermill": {
     "duration": 0.034636,
     "end_time": "2024-02-19T10:35:34.044028",
     "exception": false,
     "start_time": "2024-02-19T10:35:34.009392",
     "status": "completed"
    },
    "tags": []
   },
   "source": [
    "K-means needs numeric columns for clustering. Convert the categorical column `'sex'` into numeric. There is no need to convert the `'species'` column because it isn't being used as a feature in the clustering algorithm. "
   ]
  },
  {
   "cell_type": "code",
   "execution_count": 11,
   "id": "445bbef0",
   "metadata": {
    "execution": {
     "iopub.execute_input": "2024-02-19T10:35:34.115111Z",
     "iopub.status.busy": "2024-02-19T10:35:34.114287Z",
     "iopub.status.idle": "2024-02-19T10:35:34.127654Z",
     "shell.execute_reply": "2024-02-19T10:35:34.125259Z"
    },
    "id": "U833roOu1Qf9",
    "papermill": {
     "duration": 0.053125,
     "end_time": "2024-02-19T10:35:34.132042",
     "exception": false,
     "start_time": "2024-02-19T10:35:34.078917",
     "status": "completed"
    },
    "tags": []
   },
   "outputs": [],
   "source": [
    "# Convert `sex` column from categorical to numeric.\n",
    "\n",
    "penguins_subset = pd.get_dummies(penguins_subset, drop_first = True, columns=['sex'])"
   ]
  },
  {
   "cell_type": "markdown",
   "id": "90775c0b",
   "metadata": {
    "id": "d10c6d43",
    "papermill": {
     "duration": 0.026145,
     "end_time": "2024-02-19T10:35:34.185679",
     "exception": false,
     "start_time": "2024-02-19T10:35:34.159534",
     "status": "completed"
    },
    "tags": []
   },
   "source": [
    "<details>\n",
    "  <summary><h4><strong>Hint 1</strong></h4></summary>\n",
    "\n",
    "Use the `get_dummies` function. \n",
    "\n",
    "</details>"
   ]
  },
  {
   "cell_type": "markdown",
   "id": "9a4a9fb2",
   "metadata": {
    "id": "4ef2e46a",
    "papermill": {
     "duration": 0.028115,
     "end_time": "2024-02-19T10:35:34.240124",
     "exception": false,
     "start_time": "2024-02-19T10:35:34.212009",
     "status": "completed"
    },
    "tags": []
   },
   "source": [
    "<details>\n",
    "  <summary><h4><strong>Hint 2</strong></h4></summary>\n",
    "\n",
    "The `drop_first` parameter should be set to `True`. This removes redundant data. The `columns` parameter can **optionally** be set to `['sex']` to specify that only the `'sex'` column gets this operation performed on it. \n",
    "\n",
    "</details>"
   ]
  },
  {
   "cell_type": "markdown",
   "id": "ec21d92a",
   "metadata": {
    "id": "725cc2b0",
    "papermill": {
     "duration": 0.027677,
     "end_time": "2024-02-19T10:35:34.306392",
     "exception": false,
     "start_time": "2024-02-19T10:35:34.278715",
     "status": "completed"
    },
    "tags": []
   },
   "source": [
    "### Drop a column\n",
    "\n",
    "Drop the categorical column `island` from the dataset. While it has value, this notebook is trying to confirm if penguins of the same species exhibit different physical characteristics based on sex. This doesn't include location.\n",
    "\n",
    "Note that the `'species'` column is not numeric. Don't drop the `'species'` column for now. It could potentially be used to help understand the clusters later. "
   ]
  },
  {
   "cell_type": "code",
   "execution_count": 12,
   "id": "1ce2c5f0",
   "metadata": {
    "execution": {
     "iopub.execute_input": "2024-02-19T10:35:34.360939Z",
     "iopub.status.busy": "2024-02-19T10:35:34.360502Z",
     "iopub.status.idle": "2024-02-19T10:35:34.366657Z",
     "shell.execute_reply": "2024-02-19T10:35:34.365580Z"
    },
    "id": "841986cc",
    "papermill": {
     "duration": 0.035415,
     "end_time": "2024-02-19T10:35:34.368986",
     "exception": false,
     "start_time": "2024-02-19T10:35:34.333571",
     "status": "completed"
    },
    "tags": []
   },
   "outputs": [],
   "source": [
    "# Drop the island column.\n",
    "\n",
    "penguins_subset = penguins_subset.drop(['island'], axis=1)"
   ]
  },
  {
   "cell_type": "markdown",
   "id": "17ae054a",
   "metadata": {
    "id": "Gqs356GLi-OX",
    "papermill": {
     "duration": 0.026053,
     "end_time": "2024-02-19T10:35:34.420965",
     "exception": false,
     "start_time": "2024-02-19T10:35:34.394912",
     "status": "completed"
    },
    "tags": []
   },
   "source": [
    "### Scale the features\n",
    "\n",
    "Because K-means uses distance between observations as its measure of similarity, it's important to scale the data before modeling. Use a third-party tool, such as scikit-learn's `StandardScaler` function. `StandardScaler` scales each point xᵢ by subtracting the mean observed value for that feature and dividing by the standard deviation:\n",
    "\n",
    "x-scaled = (xᵢ – mean(X)) / σ\n",
    "\n",
    "This ensures that all variables have a mean of 0 and variance/standard deviation of 1. \n",
    "\n",
    "**Note:** Because the species column isn't a feature, it doesn't need to be scaled. \n",
    "\n",
    "First, copy all the features except the `'species'` column to a DataFrame `X`. "
   ]
  },
  {
   "cell_type": "code",
   "execution_count": 13,
   "id": "7e378559",
   "metadata": {
    "execution": {
     "iopub.execute_input": "2024-02-19T10:35:34.474947Z",
     "iopub.status.busy": "2024-02-19T10:35:34.474535Z",
     "iopub.status.idle": "2024-02-19T10:35:34.479861Z",
     "shell.execute_reply": "2024-02-19T10:35:34.479005Z"
    },
    "id": "37a93839",
    "papermill": {
     "duration": 0.034979,
     "end_time": "2024-02-19T10:35:34.482350",
     "exception": false,
     "start_time": "2024-02-19T10:35:34.447371",
     "status": "completed"
    },
    "scrolled": true,
    "tags": []
   },
   "outputs": [],
   "source": [
    "# Exclude `species` variable from X\n",
    "\n",
    "X = penguins_subset.drop(['species'], axis=1)"
   ]
  },
  {
   "cell_type": "markdown",
   "id": "7595e41e",
   "metadata": {
    "id": "bc057c97",
    "papermill": {
     "duration": 0.026027,
     "end_time": "2024-02-19T10:35:34.534926",
     "exception": false,
     "start_time": "2024-02-19T10:35:34.508899",
     "status": "completed"
    },
    "tags": []
   },
   "source": [
    "<details>\n",
    "  <summary><h4><strong>Hint 1</strong></h4></summary>\n",
    "\n",
    "Use`drop()`.\n",
    "</details>"
   ]
  },
  {
   "cell_type": "markdown",
   "id": "ff5c7106",
   "metadata": {
    "id": "059194c4",
    "papermill": {
     "duration": 0.025923,
     "end_time": "2024-02-19T10:35:34.587056",
     "exception": false,
     "start_time": "2024-02-19T10:35:34.561133",
     "status": "completed"
    },
    "tags": []
   },
   "source": [
    "<details>\n",
    "  <summary><h4><strong>Hint 2</strong></h4></summary>\n",
    "\n",
    "Select all columns except `'species'.`The `axis` parameter passed in to this method should be set to `1` if you want to drop columns.\n",
    "</details>"
   ]
  },
  {
   "cell_type": "markdown",
   "id": "99fa4c66",
   "metadata": {
    "id": "da3acdc9",
    "papermill": {
     "duration": 0.026245,
     "end_time": "2024-02-19T10:35:34.639591",
     "exception": false,
     "start_time": "2024-02-19T10:35:34.613346",
     "status": "completed"
    },
    "tags": []
   },
   "source": [
    "Scale the features in `X` using `StandardScaler`, and assign the scaled data to a new variable `X_scaled`. "
   ]
  },
  {
   "cell_type": "code",
   "execution_count": 14,
   "id": "3f701bfc",
   "metadata": {
    "execution": {
     "iopub.execute_input": "2024-02-19T10:35:34.695867Z",
     "iopub.status.busy": "2024-02-19T10:35:34.695056Z",
     "iopub.status.idle": "2024-02-19T10:35:34.705059Z",
     "shell.execute_reply": "2024-02-19T10:35:34.704008Z"
    },
    "id": "gJRWMdtgkT4g",
    "papermill": {
     "duration": 0.041114,
     "end_time": "2024-02-19T10:35:34.707893",
     "exception": false,
     "start_time": "2024-02-19T10:35:34.666779",
     "status": "completed"
    },
    "tags": []
   },
   "outputs": [],
   "source": [
    "#Scale the features.\n",
    "#Assign the scaled data to variable `X_scaled`.\n",
    "\n",
    "X_scaled = StandardScaler().fit_transform(X)"
   ]
  },
  {
   "cell_type": "markdown",
   "id": "d22c7b1e",
   "metadata": {
    "id": "08a688d3",
    "papermill": {
     "duration": 0.025366,
     "end_time": "2024-02-19T10:35:34.759942",
     "exception": false,
     "start_time": "2024-02-19T10:35:34.734576",
     "status": "completed"
    },
    "tags": []
   },
   "source": [
    "<details>\n",
    "  <summary><h4><strong>Hint 1</strong></h4></summary>\n",
    "\n",
    "Instantiate StandardScaler to transform the data in a single step.\n",
    "</details>"
   ]
  },
  {
   "cell_type": "markdown",
   "id": "174b1348",
   "metadata": {
    "id": "05445583",
    "papermill": {
     "duration": 0.026507,
     "end_time": "2024-02-19T10:35:34.813740",
     "exception": false,
     "start_time": "2024-02-19T10:35:34.787233",
     "status": "completed"
    },
    "tags": []
   },
   "source": [
    "<details>\n",
    "  <summary><h4><strong>Hint 2</strong></h4></summary>\n",
    "\n",
    "Use the `.fit_transform()` method and pass in the data as an argument.\n",
    "</details>"
   ]
  },
  {
   "cell_type": "markdown",
   "id": "37dfe13c",
   "metadata": {
    "id": "beKyGofii-tO",
    "papermill": {
     "duration": 0.026359,
     "end_time": "2024-02-19T10:35:34.867362",
     "exception": false,
     "start_time": "2024-02-19T10:35:34.841003",
     "status": "completed"
    },
    "tags": []
   },
   "source": [
    "## **Step 3: Data modeling** "
   ]
  },
  {
   "cell_type": "markdown",
   "id": "7949e124",
   "metadata": {
    "id": "15120a7e",
    "papermill": {
     "duration": 0.025771,
     "end_time": "2024-02-19T10:35:34.921409",
     "exception": false,
     "start_time": "2024-02-19T10:35:34.895638",
     "status": "completed"
    },
    "tags": []
   },
   "source": [
    "Now, fit K-means and evaluate inertia for different values of k. Because you may not know how many clusters exist in the data, start by fitting K-means and examining the inertia values for different values of k. To do this, write a function called `kmeans_inertia` that takes in `num_clusters` and `x_vals` (`X_scaled`) and returns a list of each k-value's inertia.\n",
    "\n",
    "When using K-means inside the function, set the `random_state` to `42`. This way, others can reproduce your results."
   ]
  },
  {
   "cell_type": "code",
   "execution_count": 15,
   "id": "07a35c68",
   "metadata": {
    "execution": {
     "iopub.execute_input": "2024-02-19T10:35:34.976868Z",
     "iopub.status.busy": "2024-02-19T10:35:34.975896Z",
     "iopub.status.idle": "2024-02-19T10:35:34.983877Z",
     "shell.execute_reply": "2024-02-19T10:35:34.983005Z"
    },
    "papermill": {
     "duration": 0.038635,
     "end_time": "2024-02-19T10:35:34.986582",
     "exception": false,
     "start_time": "2024-02-19T10:35:34.947947",
     "status": "completed"
    },
    "tags": []
   },
   "outputs": [],
   "source": [
    "# Fit K-means and evaluate inertia for different values of k.\n",
    "\n",
    "num_clusters = [i for i in range(2, 11)]\n",
    "\n",
    "def kmeans_inertia(num_clusters, x_vals):\n",
    "    \"\"\"\n",
    "    Accepts as arguments list of ints and data array. \n",
    "    Fits a KMeans model where k = each value in the list of ints. \n",
    "    Returns each k-value's inertia appended to a list.\n",
    "    \"\"\"\n",
    "    inertia = []\n",
    "    for num in num_clusters:\n",
    "        kms = KMeans(n_clusters=num, random_state=42)\n",
    "        kms.fit(x_vals)\n",
    "        inertia.append(kms.inertia_)\n",
    "\n",
    "    return inertia"
   ]
  },
  {
   "cell_type": "markdown",
   "id": "73ab0670",
   "metadata": {
    "id": "21c96ecc",
    "papermill": {
     "duration": 0.026246,
     "end_time": "2024-02-19T10:35:35.039113",
     "exception": false,
     "start_time": "2024-02-19T10:35:35.012867",
     "status": "completed"
    },
    "tags": []
   },
   "source": [
    "Use the `kmeans_inertia` function to return a list of inertia for k=2 to 10."
   ]
  },
  {
   "cell_type": "code",
   "execution_count": 16,
   "id": "8d06000c",
   "metadata": {
    "execution": {
     "iopub.execute_input": "2024-02-19T10:35:35.094528Z",
     "iopub.status.busy": "2024-02-19T10:35:35.093703Z",
     "iopub.status.idle": "2024-02-19T10:35:35.384000Z",
     "shell.execute_reply": "2024-02-19T10:35:35.382837Z"
    },
    "executionInfo": {
     "elapsed": 4309,
     "status": "ok",
     "timestamp": 1659750065594,
     "user": {
      "displayName": "Gracen Hanley",
      "userId": "14517815644308397440"
     },
     "user_tz": 420
    },
    "id": "p7dWwBQih0dd",
    "outputId": "1cee564a-ef62-4ee1-dab6-dad9d32eb98f",
    "papermill": {
     "duration": 0.32129,
     "end_time": "2024-02-19T10:35:35.386725",
     "exception": false,
     "start_time": "2024-02-19T10:35:35.065435",
     "status": "completed"
    },
    "tags": []
   },
   "outputs": [
    {
     "name": "stderr",
     "output_type": "stream",
     "text": [
      "/opt/conda/lib/python3.10/site-packages/sklearn/cluster/_kmeans.py:870: FutureWarning: The default value of `n_init` will change from 10 to 'auto' in 1.4. Set the value of `n_init` explicitly to suppress the warning\n",
      "  warnings.warn(\n",
      "/opt/conda/lib/python3.10/site-packages/sklearn/cluster/_kmeans.py:870: FutureWarning: The default value of `n_init` will change from 10 to 'auto' in 1.4. Set the value of `n_init` explicitly to suppress the warning\n",
      "  warnings.warn(\n",
      "/opt/conda/lib/python3.10/site-packages/sklearn/cluster/_kmeans.py:870: FutureWarning: The default value of `n_init` will change from 10 to 'auto' in 1.4. Set the value of `n_init` explicitly to suppress the warning\n",
      "  warnings.warn(\n",
      "/opt/conda/lib/python3.10/site-packages/sklearn/cluster/_kmeans.py:870: FutureWarning: The default value of `n_init` will change from 10 to 'auto' in 1.4. Set the value of `n_init` explicitly to suppress the warning\n",
      "  warnings.warn(\n",
      "/opt/conda/lib/python3.10/site-packages/sklearn/cluster/_kmeans.py:870: FutureWarning: The default value of `n_init` will change from 10 to 'auto' in 1.4. Set the value of `n_init` explicitly to suppress the warning\n",
      "  warnings.warn(\n",
      "/opt/conda/lib/python3.10/site-packages/sklearn/cluster/_kmeans.py:870: FutureWarning: The default value of `n_init` will change from 10 to 'auto' in 1.4. Set the value of `n_init` explicitly to suppress the warning\n",
      "  warnings.warn(\n",
      "/opt/conda/lib/python3.10/site-packages/sklearn/cluster/_kmeans.py:870: FutureWarning: The default value of `n_init` will change from 10 to 'auto' in 1.4. Set the value of `n_init` explicitly to suppress the warning\n",
      "  warnings.warn(\n",
      "/opt/conda/lib/python3.10/site-packages/sklearn/cluster/_kmeans.py:870: FutureWarning: The default value of `n_init` will change from 10 to 'auto' in 1.4. Set the value of `n_init` explicitly to suppress the warning\n",
      "  warnings.warn(\n",
      "/opt/conda/lib/python3.10/site-packages/sklearn/cluster/_kmeans.py:870: FutureWarning: The default value of `n_init` will change from 10 to 'auto' in 1.4. Set the value of `n_init` explicitly to suppress the warning\n",
      "  warnings.warn(\n"
     ]
    },
    {
     "data": {
      "text/plain": [
       "[885.622414365225,\n",
       " 578.8284278107235,\n",
       " 386.14534424773285,\n",
       " 284.5464837898288,\n",
       " 217.92858573807672,\n",
       " 201.39287843423267,\n",
       " 185.46131043232302,\n",
       " 173.4545211497985,\n",
       " 164.12001520260708]"
      ]
     },
     "execution_count": 16,
     "metadata": {},
     "output_type": "execute_result"
    }
   ],
   "source": [
    "# Return a list of inertia for k=2 to 10.\n",
    "\n",
    "inertia = kmeans_inertia(num_clusters, X_scaled)\n",
    "inertia"
   ]
  },
  {
   "cell_type": "markdown",
   "id": "ac9c12d0",
   "metadata": {
    "id": "7e574f05",
    "papermill": {
     "duration": 0.026048,
     "end_time": "2024-02-19T10:35:35.441105",
     "exception": false,
     "start_time": "2024-02-19T10:35:35.415057",
     "status": "completed"
    },
    "tags": []
   },
   "source": [
    "<details>\n",
    "  <summary><h4><strong>Hint 1</strong></h4></summary>\n",
    "\n",
    "Review the material about the `kmeans_inertia` function. \n",
    "</details>"
   ]
  },
  {
   "cell_type": "markdown",
   "id": "aa6ed6c7",
   "metadata": {
    "id": "fa331d9a",
    "papermill": {
     "duration": 0.026196,
     "end_time": "2024-02-19T10:35:35.494065",
     "exception": false,
     "start_time": "2024-02-19T10:35:35.467869",
     "status": "completed"
    },
    "tags": []
   },
   "source": [
    "Next, create a line plot that shows the relationship between `num_clusters` and `inertia`.\n",
    "Use either seaborn or matplotlib to visualize this relationship. "
   ]
  },
  {
   "cell_type": "code",
   "execution_count": 17,
   "id": "ec039323",
   "metadata": {
    "execution": {
     "iopub.execute_input": "2024-02-19T10:35:35.549664Z",
     "iopub.status.busy": "2024-02-19T10:35:35.549296Z",
     "iopub.status.idle": "2024-02-19T10:35:35.854821Z",
     "shell.execute_reply": "2024-02-19T10:35:35.853771Z"
    },
    "executionInfo": {
     "elapsed": 839,
     "status": "ok",
     "timestamp": 1659750066430,
     "user": {
      "displayName": "Gracen Hanley",
      "userId": "14517815644308397440"
     },
     "user_tz": 420
    },
    "id": "46yOZCg4h9a4",
    "outputId": "63484660-c18b-4aa9-afbf-10cb7870b278",
    "papermill": {
     "duration": 0.337093,
     "end_time": "2024-02-19T10:35:35.858388",
     "exception": false,
     "start_time": "2024-02-19T10:35:35.521295",
     "status": "completed"
    },
    "tags": []
   },
   "outputs": [
    {
     "name": "stderr",
     "output_type": "stream",
     "text": [
      "/opt/conda/lib/python3.10/site-packages/seaborn/_oldcore.py:1119: FutureWarning: use_inf_as_na option is deprecated and will be removed in a future version. Convert inf values to NaN before operating instead.\n",
      "  with pd.option_context('mode.use_inf_as_na', True):\n",
      "/opt/conda/lib/python3.10/site-packages/seaborn/_oldcore.py:1119: FutureWarning: use_inf_as_na option is deprecated and will be removed in a future version. Convert inf values to NaN before operating instead.\n",
      "  with pd.option_context('mode.use_inf_as_na', True):\n"
     ]
    },
    {
     "data": {
      "image/png": "[encoded data removed]",
      "text/plain": [
       "<Figure size 640x480 with 1 Axes>"
      ]
     },
     "metadata": {},
     "output_type": "display_data"
    }
   ],
   "source": [
    "# Create a line plot.\n",
    "\n",
    "plot = sns.lineplot(x=num_clusters, y=inertia, marker = 'o')\n",
    "plot.set_xlabel(\"Number of clusters\");\n",
    "plot.set_ylabel(\"Inertia\");"
   ]
  },
  {
   "cell_type": "markdown",
   "id": "81d92a84",
   "metadata": {
    "id": "011ff9cf",
    "papermill": {
     "duration": 0.027276,
     "end_time": "2024-02-19T10:35:35.914433",
     "exception": false,
     "start_time": "2024-02-19T10:35:35.887157",
     "status": "completed"
    },
    "tags": []
   },
   "source": [
    "<details>\n",
    "  <summary><h4><strong>Hint 1</strong></h4></summary>\n",
    "\n",
    "Use `sns.lineplot`.\n",
    "</details>"
   ]
  },
  {
   "cell_type": "markdown",
   "id": "4e9c904e",
   "metadata": {
    "id": "19bfddca",
    "papermill": {
     "duration": 0.027535,
     "end_time": "2024-02-19T10:35:35.969794",
     "exception": false,
     "start_time": "2024-02-19T10:35:35.942259",
     "status": "completed"
    },
    "tags": []
   },
   "source": [
    "<details>\n",
    "  <summary><h4><strong>Hint 2</strong></h4></summary>\n",
    "\n",
    "Include `x=num_clusters` and `y=inertia`.\n",
    "</details>"
   ]
  },
  {
   "cell_type": "markdown",
   "id": "0a0c0527",
   "metadata": {
    "id": "g-nPzhMPi_oQ",
    "papermill": {
     "duration": 0.026597,
     "end_time": "2024-02-19T10:35:36.024111",
     "exception": false,
     "start_time": "2024-02-19T10:35:35.997514",
     "status": "completed"
    },
    "tags": []
   },
   "source": [
    "**Question:** Where is the elbow in the plot?\n",
    "\n",
    "The plot seems to depict an elbow at six clusters, but there isn't a clear method for confirming that a six-cluster model is optimal. Therefore, the silhouette scores should be checked. "
   ]
  },
  {
   "cell_type": "markdown",
   "id": "cd5b309d",
   "metadata": {
    "id": "fc33c6a3-8610-4b70-b0e9-9b99c345c0ac",
    "papermill": {
     "duration": 0.026545,
     "end_time": "2024-02-19T10:35:36.077552",
     "exception": false,
     "start_time": "2024-02-19T10:35:36.051007",
     "status": "completed"
    },
    "tags": []
   },
   "source": [
    "## **Step 4: Results and evaluation** "
   ]
  },
  {
   "cell_type": "markdown",
   "id": "7cb2fa60",
   "metadata": {
    "id": "L0Jmyi8Hi__T",
    "papermill": {
     "duration": 0.02908,
     "end_time": "2024-02-19T10:35:36.133460",
     "exception": false,
     "start_time": "2024-02-19T10:35:36.104380",
     "status": "completed"
    },
    "tags": []
   },
   "source": [
    "Now, evaluate the silhouette score using the `silhouette_score()` function. Silhouette scores are used to study the distance between clusters. "
   ]
  },
  {
   "cell_type": "markdown",
   "id": "97ad229f",
   "metadata": {
    "id": "64e51814",
    "papermill": {
     "duration": 0.027966,
     "end_time": "2024-02-19T10:35:36.188504",
     "exception": false,
     "start_time": "2024-02-19T10:35:36.160538",
     "status": "completed"
    },
    "tags": []
   },
   "source": [
    "Then, compare the silhouette score of each value of k, from 2 through 10. To do this, write a function called `kmeans_sil` that takes in `num_clusters` and `x_vals` (`X_scaled`) and returns a list of each k-value's silhouette score."
   ]
  },
  {
   "cell_type": "code",
   "execution_count": 18,
   "id": "77a57906",
   "metadata": {
    "execution": {
     "iopub.execute_input": "2024-02-19T10:35:36.254074Z",
     "iopub.status.busy": "2024-02-19T10:35:36.253550Z",
     "iopub.status.idle": "2024-02-19T10:35:38.468686Z",
     "shell.execute_reply": "2024-02-19T10:35:38.467650Z"
    },
    "papermill": {
     "duration": 2.253404,
     "end_time": "2024-02-19T10:35:38.471339",
     "exception": false,
     "start_time": "2024-02-19T10:35:36.217935",
     "status": "completed"
    },
    "tags": []
   },
   "outputs": [
    {
     "name": "stderr",
     "output_type": "stream",
     "text": [
      "/opt/conda/lib/python3.10/site-packages/sklearn/cluster/_kmeans.py:870: FutureWarning: The default value of `n_init` will change from 10 to 'auto' in 1.4. Set the value of `n_init` explicitly to suppress the warning\n",
      "  warnings.warn(\n",
      "/opt/conda/lib/python3.10/site-packages/sklearn/cluster/_kmeans.py:870: FutureWarning: The default value of `n_init` will change from 10 to 'auto' in 1.4. Set the value of `n_init` explicitly to suppress the warning\n",
      "  warnings.warn(\n",
      "/opt/conda/lib/python3.10/site-packages/sklearn/cluster/_kmeans.py:870: FutureWarning: The default value of `n_init` will change from 10 to 'auto' in 1.4. Set the value of `n_init` explicitly to suppress the warning\n",
      "  warnings.warn(\n",
      "/opt/conda/lib/python3.10/site-packages/sklearn/cluster/_kmeans.py:870: FutureWarning: The default value of `n_init` will change from 10 to 'auto' in 1.4. Set the value of `n_init` explicitly to suppress the warning\n",
      "  warnings.warn(\n",
      "/opt/conda/lib/python3.10/site-packages/sklearn/cluster/_kmeans.py:870: FutureWarning: The default value of `n_init` will change from 10 to 'auto' in 1.4. Set the value of `n_init` explicitly to suppress the warning\n",
      "  warnings.warn(\n",
      "/opt/conda/lib/python3.10/site-packages/sklearn/cluster/_kmeans.py:870: FutureWarning: The default value of `n_init` will change from 10 to 'auto' in 1.4. Set the value of `n_init` explicitly to suppress the warning\n",
      "  warnings.warn(\n",
      "/opt/conda/lib/python3.10/site-packages/sklearn/cluster/_kmeans.py:870: FutureWarning: The default value of `n_init` will change from 10 to 'auto' in 1.4. Set the value of `n_init` explicitly to suppress the warning\n",
      "  warnings.warn(\n",
      "/opt/conda/lib/python3.10/site-packages/sklearn/cluster/_kmeans.py:870: FutureWarning: The default value of `n_init` will change from 10 to 'auto' in 1.4. Set the value of `n_init` explicitly to suppress the warning\n",
      "  warnings.warn(\n",
      "/opt/conda/lib/python3.10/site-packages/sklearn/cluster/_kmeans.py:870: FutureWarning: The default value of `n_init` will change from 10 to 'auto' in 1.4. Set the value of `n_init` explicitly to suppress the warning\n",
      "  warnings.warn(\n"
     ]
    },
    {
     "data": {
      "text/plain": [
       "[0.44398088353055243,\n",
       " 0.45101024097188364,\n",
       " 0.5080140996630784,\n",
       " 0.519998574860868,\n",
       " 0.5263224884981607,\n",
       " 0.47774022332151733,\n",
       " 0.4221920732643224,\n",
       " 0.36062890821417276,\n",
       " 0.3617250563420018]"
      ]
     },
     "execution_count": 18,
     "metadata": {},
     "output_type": "execute_result"
    }
   ],
   "source": [
    "# Evaluate silhouette score.\n",
    "# Write a function to return a list of each k-value's score.\n",
    "\n",
    "def kmeans_sil(num_clusters, x_vals):\n",
    "    \"\"\"\n",
    "    Accepts as arguments list of ints and data array. \n",
    "    Fits a KMeans model where k = each value in the list of ints.\n",
    "    Calculates a silhouette score for each k value. \n",
    "    Returns each k-value's silhouette score appended to a list.\n",
    "    \"\"\"\n",
    "    sil_score = []\n",
    "    for num in num_clusters:\n",
    "        kms = KMeans(n_clusters=num, random_state=42)\n",
    "        kms.fit(x_vals)\n",
    "        sil_score.append(silhouette_score(x_vals, kms.labels_))\n",
    "\n",
    "    return sil_score\n",
    "\n",
    "\n",
    "sil_score = kmeans_sil(num_clusters, X_scaled)\n",
    "sil_score"
   ]
  },
  {
   "cell_type": "markdown",
   "id": "b01ed7f4",
   "metadata": {
    "id": "ed27ba6f",
    "papermill": {
     "duration": 0.057017,
     "end_time": "2024-02-19T10:35:38.581735",
     "exception": false,
     "start_time": "2024-02-19T10:35:38.524718",
     "status": "completed"
    },
    "tags": []
   },
   "source": [
    "<details>\n",
    "  <summary><h4><strong>Hint 1</strong></h4></summary>\n",
    "\n",
    "Review the `kmeans_sil` function video.\n",
    "</details>"
   ]
  },
  {
   "cell_type": "markdown",
   "id": "c628bbe7",
   "metadata": {
    "id": "e3d3c989",
    "papermill": {
     "duration": 0.027232,
     "end_time": "2024-02-19T10:35:38.636848",
     "exception": false,
     "start_time": "2024-02-19T10:35:38.609616",
     "status": "completed"
    },
    "tags": []
   },
   "source": [
    "Next, create a line plot that shows the relationship between `num_clusters` and `sil_score`.\n",
    "Use either seaborn or matplotlib to visualize this relationship. "
   ]
  },
  {
   "cell_type": "code",
   "execution_count": 19,
   "id": "119ecc5e",
   "metadata": {
    "execution": {
     "iopub.execute_input": "2024-02-19T10:35:38.694308Z",
     "iopub.status.busy": "2024-02-19T10:35:38.693908Z",
     "iopub.status.idle": "2024-02-19T10:35:38.968537Z",
     "shell.execute_reply": "2024-02-19T10:35:38.967177Z"
    },
    "executionInfo": {
     "elapsed": 402,
     "status": "ok",
     "timestamp": 1659750069220,
     "user": {
      "displayName": "Gracen Hanley",
      "userId": "14517815644308397440"
     },
     "user_tz": 420
    },
    "id": "IyhBJ8qXpbxz",
    "outputId": "a55fdc0e-bb1d-4b79-b345-62dabd295d57",
    "papermill": {
     "duration": 0.306771,
     "end_time": "2024-02-19T10:35:38.971133",
     "exception": false,
     "start_time": "2024-02-19T10:35:38.664362",
     "status": "completed"
    },
    "tags": []
   },
   "outputs": [
    {
     "name": "stderr",
     "output_type": "stream",
     "text": [
      "/opt/conda/lib/python3.10/site-packages/seaborn/_oldcore.py:1119: FutureWarning: use_inf_as_na option is deprecated and will be removed in a future version. Convert inf values to NaN before operating instead.\n",
      "  with pd.option_context('mode.use_inf_as_na', True):\n",
      "/opt/conda/lib/python3.10/site-packages/seaborn/_oldcore.py:1119: FutureWarning: use_inf_as_na option is deprecated and will be removed in a future version. Convert inf values to NaN before operating instead.\n",
      "  with pd.option_context('mode.use_inf_as_na', True):\n"
     ]
    },
    {
     "data": {
      "image/png": "[encoded data removed]",
      "text/plain": [
       "<Figure size 640x480 with 1 Axes>"
      ]
     },
     "metadata": {},
     "output_type": "display_data"
    }
   ],
   "source": [
    "# Create a line plot.\n",
    "\n",
    "plot = sns.lineplot(x=num_clusters, y=sil_score, marker = 'o')\n",
    "plot.set_xlabel(\"# of clusters\");\n",
    "plot.set_ylabel(\"Silhouette Score\");"
   ]
  },
  {
   "cell_type": "markdown",
   "id": "cdb1b535",
   "metadata": {
    "id": "045d2a44",
    "papermill": {
     "duration": 0.030332,
     "end_time": "2024-02-19T10:35:39.031298",
     "exception": false,
     "start_time": "2024-02-19T10:35:39.000966",
     "status": "completed"
    },
    "tags": []
   },
   "source": [
    "<details>\n",
    "  <summary><h4><strong>Hint 1</strong></h4></summary>\n",
    "\n",
    "Use `sns.lineplot`.\n",
    "</details>"
   ]
  },
  {
   "cell_type": "markdown",
   "id": "7ada30d2",
   "metadata": {
    "id": "9e48cb4c",
    "papermill": {
     "duration": 0.027853,
     "end_time": "2024-02-19T10:35:39.087936",
     "exception": false,
     "start_time": "2024-02-19T10:35:39.060083",
     "status": "completed"
    },
    "tags": []
   },
   "source": [
    "<details>\n",
    "  <summary><h4><strong>Hint 2</strong></h4></summary>\n",
    "\n",
    "Include `x=num_clusters` and `y=sil_score`.\n",
    "</details>"
   ]
  },
  {
   "cell_type": "markdown",
   "id": "bd38b2cd",
   "metadata": {
    "id": "5262b500",
    "papermill": {
     "duration": 0.027719,
     "end_time": "2024-02-19T10:35:39.143953",
     "exception": false,
     "start_time": "2024-02-19T10:35:39.116234",
     "status": "completed"
    },
    "tags": []
   },
   "source": [
    "**Question:** What does the graph show?\n",
    "\n",
    "Silhouette scores near 1 indicate that samples are far away from neighboring clusters. Scores close to 0 indicate that samples are on or very close to the decision boundary between two neighboring clusters. \n",
    "\n",
    "The plot indicates that the silhouette score is closest to 1 when the data is partitioned into six clusters, although five clusters also yield a relatively good silhouette score."
   ]
  },
  {
   "cell_type": "markdown",
   "id": "f7ff4e78",
   "metadata": {
    "id": "otSauwzpMXnP",
    "papermill": {
     "duration": 0.02841,
     "end_time": "2024-02-19T10:35:39.200670",
     "exception": false,
     "start_time": "2024-02-19T10:35:39.172260",
     "status": "completed"
    },
    "tags": []
   },
   "source": [
    "### Optimal k-value"
   ]
  },
  {
   "cell_type": "markdown",
   "id": "817b8d47",
   "metadata": {
    "id": "7vQnmULGE69B",
    "papermill": {
     "duration": 0.029018,
     "end_time": "2024-02-19T10:35:39.258711",
     "exception": false,
     "start_time": "2024-02-19T10:35:39.229693",
     "status": "completed"
    },
    "tags": []
   },
   "source": [
    "To decide on an optimal k-value, fit a six-cluster model to the dataset. "
   ]
  },
  {
   "cell_type": "code",
   "execution_count": 20,
   "id": "e95cdf95",
   "metadata": {
    "execution": {
     "iopub.execute_input": "2024-02-19T10:35:39.319084Z",
     "iopub.status.busy": "2024-02-19T10:35:39.318593Z",
     "iopub.status.idle": "2024-02-19T10:35:39.361828Z",
     "shell.execute_reply": "2024-02-19T10:35:39.360671Z"
    },
    "executionInfo": {
     "elapsed": 231,
     "status": "ok",
     "timestamp": 1659750069448,
     "user": {
      "displayName": "Gracen Hanley",
      "userId": "14517815644308397440"
     },
     "user_tz": 420
    },
    "id": "tZhr41e6MXxo",
    "outputId": "28f7c4c2-b746-42d7-cb99-8dd307c70c32",
    "papermill": {
     "duration": 0.076867,
     "end_time": "2024-02-19T10:35:39.364735",
     "exception": false,
     "start_time": "2024-02-19T10:35:39.287868",
     "status": "completed"
    },
    "tags": []
   },
   "outputs": [
    {
     "name": "stderr",
     "output_type": "stream",
     "text": [
      "/opt/conda/lib/python3.10/site-packages/sklearn/cluster/_kmeans.py:870: FutureWarning: The default value of `n_init` will change from 10 to 'auto' in 1.4. Set the value of `n_init` explicitly to suppress the warning\n",
      "  warnings.warn(\n"
     ]
    },
    {
     "data": {
      "text/html": [
       "<style>#sk-container-id-1 {color: black;background-color: white;}#sk-container-id-1 pre{padding: 0;}#sk-container-id-1 div.sk-toggleable {background-color: white;}#sk-container-id-1 label.sk-toggleable__label {cursor: pointer;display: block;width: 100%;margin-bottom: 0;padding: 0.3em;box-sizing: border-box;text-align: center;}#sk-container-id-1 label.sk-toggleable__label-arrow:before {content: \"▸\";float: left;margin-right: 0.25em;color: #696969;}#sk-container-id-1 label.sk-toggleable__label-arrow:hover:before {color: black;}#sk-container-id-1 div.sk-estimator:hover label.sk-toggleable__label-arrow:before {color: black;}#sk-container-id-1 div.sk-toggleable__content {max-height: 0;max-width: 0;overflow: hidden;text-align: left;background-color: #f0f8ff;}#sk-container-id-1 div.sk-toggleable__content pre {margin: 0.2em;color: black;border-radius: 0.25em;background-color: #f0f8ff;}#sk-container-id-1 input.sk-toggleable__control:checked~div.sk-toggleable__content {max-height: 200px;max-width: 100%;overflow: auto;}#sk-container-id-1 input.sk-toggleable__control:checked~label.sk-toggleable__label-arrow:before {content: \"▾\";}#sk-container-id-1 div.sk-estimator input.sk-toggleable__control:checked~label.sk-toggleable__label {background-color: #d4ebff;}#sk-container-id-1 div.sk-label input.sk-toggleable__control:checked~label.sk-toggleable__label {background-color: #d4ebff;}#sk-container-id-1 input.sk-hidden--visually {border: 0;clip: rect(1px 1px 1px 1px);clip: rect(1px, 1px, 1px, 1px);height: 1px;margin: -1px;overflow: hidden;padding: 0;position: absolute;width: 1px;}#sk-container-id-1 div.sk-estimator {font-family: monospace;background-color: #f0f8ff;border: 1px dotted black;border-radius: 0.25em;box-sizing: border-box;margin-bottom: 0.5em;}#sk-container-id-1 div.sk-estimator:hover {background-color: #d4ebff;}#sk-container-id-1 div.sk-parallel-item::after {content: \"\";width: 100%;border-bottom: 1px solid gray;flex-grow: 1;}#sk-container-id-1 div.sk-label:hover label.sk-toggleable__label {background-color: #d4ebff;}#sk-container-id-1 div.sk-serial::before {content: \"\";position: absolute;border-left: 1px solid gray;box-sizing: border-box;top: 0;bottom: 0;left: 50%;z-index: 0;}#sk-container-id-1 div.sk-serial {display: flex;flex-direction: column;align-items: center;background-color: white;padding-right: 0.2em;padding-left: 0.2em;position: relative;}#sk-container-id-1 div.sk-item {position: relative;z-index: 1;}#sk-container-id-1 div.sk-parallel {display: flex;align-items: stretch;justify-content: center;background-color: white;position: relative;}#sk-container-id-1 div.sk-item::before, #sk-container-id-1 div.sk-parallel-item::before {content: \"\";position: absolute;border-left: 1px solid gray;box-sizing: border-box;top: 0;bottom: 0;left: 50%;z-index: -1;}#sk-container-id-1 div.sk-parallel-item {display: flex;flex-direction: column;z-index: 1;position: relative;background-color: white;}#sk-container-id-1 div.sk-parallel-item:first-child::after {align-self: flex-end;width: 50%;}#sk-container-id-1 div.sk-parallel-item:last-child::after {align-self: flex-start;width: 50%;}#sk-container-id-1 div.sk-parallel-item:only-child::after {width: 0;}#sk-container-id-1 div.sk-dashed-wrapped {border: 1px dashed gray;margin: 0 0.4em 0.5em 0.4em;box-sizing: border-box;padding-bottom: 0.4em;background-color: white;}#sk-container-id-1 div.sk-label label {font-family: monospace;font-weight: bold;display: inline-block;line-height: 1.2em;}#sk-container-id-1 div.sk-label-container {text-align: center;}#sk-container-id-1 div.sk-container {/* jupyter's `normalize.less` sets `[hidden] { display: none; }` but bootstrap.min.css set `[hidden] { display: none !important; }` so we also need the `!important` here to be able to override the default hidden behavior on the sphinx rendered scikit-learn.org. See: https://github.com/scikit-learn/scikit-learn/issues/21755 */display: inline-block !important;position: relative;}#sk-container-id-1 div.sk-text-repr-fallback {display: none;}</style><div id=\"sk-container-id-1\" class=\"sk-top-container\"><div class=\"sk-text-repr-fallback\"><pre>KMeans(n_clusters=6, random_state=42)</pre><b>In a Jupyter environment, please rerun this cell to show the HTML representation or trust the notebook. <br />On GitHub, the HTML representation is unable to render, please try loading this page with nbviewer.org.</b></div><div class=\"sk-container\" hidden><div class=\"sk-item\"><div class=\"sk-estimator sk-toggleable\"><input class=\"sk-toggleable__control sk-hidden--visually\" id=\"sk-estimator-id-1\" type=\"checkbox\" checked><label for=\"sk-estimator-id-1\" class=\"sk-toggleable__label sk-toggleable__label-arrow\">KMeans</label><div class=\"sk-toggleable__content\"><pre>KMeans(n_clusters=6, random_state=42)</pre></div></div></div></div></div>"
      ],
      "text/plain": [
       "KMeans(n_clusters=6, random_state=42)"
      ]
     },
     "execution_count": 20,
     "metadata": {},
     "output_type": "execute_result"
    }
   ],
   "source": [
    "# Fit a 6-cluster model.\n",
    "\n",
    "kmeans6 = KMeans(n_clusters=6, random_state=42)\n",
    "kmeans6.fit(X_scaled)"
   ]
  },
  {
   "cell_type": "markdown",
   "id": "23b64b50",
   "metadata": {
    "id": "3f705fde",
    "papermill": {
     "duration": 0.029511,
     "end_time": "2024-02-19T10:35:39.424129",
     "exception": false,
     "start_time": "2024-02-19T10:35:39.394618",
     "status": "completed"
    },
    "tags": []
   },
   "source": [
    "<details>\n",
    "  <summary><h4><strong>Hint 1</strong></h4></summary>\n",
    "\n",
    "Make an instance of the model with `num_clusters = 6` and use the `fit` function on `X_scaled`. \n",
    "</details>\n",
    "\n",
    "\n"
   ]
  },
  {
   "cell_type": "markdown",
   "id": "3b6bb3ee",
   "metadata": {
    "id": "49f834ec",
    "papermill": {
     "duration": 0.03109,
     "end_time": "2024-02-19T10:35:39.484209",
     "exception": false,
     "start_time": "2024-02-19T10:35:39.453119",
     "status": "completed"
    },
    "tags": []
   },
   "source": [
    "Print out the unique labels of the fit model."
   ]
  },
  {
   "cell_type": "code",
   "execution_count": 21,
   "id": "c1ad4b33",
   "metadata": {
    "execution": {
     "iopub.execute_input": "2024-02-19T10:35:39.545272Z",
     "iopub.status.busy": "2024-02-19T10:35:39.544855Z",
     "iopub.status.idle": "2024-02-19T10:35:39.552258Z",
     "shell.execute_reply": "2024-02-19T10:35:39.550522Z"
    },
    "executionInfo": {
     "elapsed": 160,
     "status": "ok",
     "timestamp": 1659750069605,
     "user": {
      "displayName": "Gracen Hanley",
      "userId": "14517815644308397440"
     },
     "user_tz": 420
    },
    "id": "mLB6AyhWMX54",
    "outputId": "fc4c3e7d-ea5c-4de1-e6c3-a74a156e38c3",
    "papermill": {
     "duration": 0.040623,
     "end_time": "2024-02-19T10:35:39.554883",
     "exception": false,
     "start_time": "2024-02-19T10:35:39.514260",
     "status": "completed"
    },
    "tags": []
   },
   "outputs": [
    {
     "name": "stdout",
     "output_type": "stream",
     "text": [
      "Unique labels: [0 1 2 3 4 5]\n"
     ]
    }
   ],
   "source": [
    "# Print unique labels.\n",
    "\n",
    "print('Unique labels:', np.unique(kmeans6.labels_))"
   ]
  },
  {
   "cell_type": "markdown",
   "id": "59f17378",
   "metadata": {
    "id": "080d87e3",
    "papermill": {
     "duration": 0.028382,
     "end_time": "2024-02-19T10:35:39.612725",
     "exception": false,
     "start_time": "2024-02-19T10:35:39.584343",
     "status": "completed"
    },
    "tags": []
   },
   "source": [
    "Now, create a new column `cluster` that indicates cluster assignment in the DataFrame `penguins_subset`. It's important to understand the meaning of each cluster's labels, then decide whether the clustering makes sense. \n",
    "\n",
    "**Note:** This task is done using `penguins_subset` because it is often easier to interpret unscaled data."
   ]
  },
  {
   "cell_type": "code",
   "execution_count": 22,
   "id": "38b7dcb4",
   "metadata": {
    "execution": {
     "iopub.execute_input": "2024-02-19T10:35:39.676609Z",
     "iopub.status.busy": "2024-02-19T10:35:39.676184Z",
     "iopub.status.idle": "2024-02-19T10:35:39.692285Z",
     "shell.execute_reply": "2024-02-19T10:35:39.691429Z"
    },
    "executionInfo": {
     "elapsed": 8,
     "status": "ok",
     "timestamp": 1659750069606,
     "user": {
      "displayName": "Gracen Hanley",
      "userId": "14517815644308397440"
     },
     "user_tz": 420
    },
    "id": "oxS6EJvZM1Ab",
    "outputId": "070ec22b-b137-4854-a0bf-ff0661ed594c",
    "papermill": {
     "duration": 0.05299,
     "end_time": "2024-02-19T10:35:39.694799",
     "exception": false,
     "start_time": "2024-02-19T10:35:39.641809",
     "status": "completed"
    },
    "tags": []
   },
   "outputs": [
    {
     "data": {
      "text/html": [
       "<div>\n",
       "<style scoped>\n",
       "    .dataframe tbody tr th:only-of-type {\n",
       "        vertical-align: middle;\n",
       "    }\n",
       "\n",
       "    .dataframe tbody tr th {\n",
       "        vertical-align: top;\n",
       "    }\n",
       "\n",
       "    .dataframe thead th {\n",
       "        text-align: right;\n",
       "    }\n",
       "</style>\n",
       "<table border=\"1\" class=\"dataframe\">\n",
       "  <thead>\n",
       "    <tr style=\"text-align: right;\">\n",
       "      <th></th>\n",
       "      <th>species</th>\n",
       "      <th>bill_length_mm</th>\n",
       "      <th>bill_depth_mm</th>\n",
       "      <th>flipper_length_mm</th>\n",
       "      <th>body_mass_g</th>\n",
       "      <th>sex_MALE</th>\n",
       "      <th>cluster</th>\n",
       "    </tr>\n",
       "  </thead>\n",
       "  <tbody>\n",
       "    <tr>\n",
       "      <th>0</th>\n",
       "      <td>Adelie</td>\n",
       "      <td>39.1</td>\n",
       "      <td>18.7</td>\n",
       "      <td>181.0</td>\n",
       "      <td>3750.0</td>\n",
       "      <td>True</td>\n",
       "      <td>2</td>\n",
       "    </tr>\n",
       "    <tr>\n",
       "      <th>1</th>\n",
       "      <td>Adelie</td>\n",
       "      <td>39.5</td>\n",
       "      <td>17.4</td>\n",
       "      <td>186.0</td>\n",
       "      <td>3800.0</td>\n",
       "      <td>False</td>\n",
       "      <td>1</td>\n",
       "    </tr>\n",
       "    <tr>\n",
       "      <th>2</th>\n",
       "      <td>Adelie</td>\n",
       "      <td>40.3</td>\n",
       "      <td>18.0</td>\n",
       "      <td>195.0</td>\n",
       "      <td>3250.0</td>\n",
       "      <td>False</td>\n",
       "      <td>1</td>\n",
       "    </tr>\n",
       "    <tr>\n",
       "      <th>3</th>\n",
       "      <td>Adelie</td>\n",
       "      <td>36.7</td>\n",
       "      <td>19.3</td>\n",
       "      <td>193.0</td>\n",
       "      <td>3450.0</td>\n",
       "      <td>False</td>\n",
       "      <td>1</td>\n",
       "    </tr>\n",
       "    <tr>\n",
       "      <th>4</th>\n",
       "      <td>Adelie</td>\n",
       "      <td>39.3</td>\n",
       "      <td>20.6</td>\n",
       "      <td>190.0</td>\n",
       "      <td>3650.0</td>\n",
       "      <td>True</td>\n",
       "      <td>2</td>\n",
       "    </tr>\n",
       "  </tbody>\n",
       "</table>\n",
       "</div>"
      ],
      "text/plain": [
       "  species  bill_length_mm  bill_depth_mm  flipper_length_mm  body_mass_g  \\\n",
       "0  Adelie            39.1           18.7              181.0       3750.0   \n",
       "1  Adelie            39.5           17.4              186.0       3800.0   \n",
       "2  Adelie            40.3           18.0              195.0       3250.0   \n",
       "3  Adelie            36.7           19.3              193.0       3450.0   \n",
       "4  Adelie            39.3           20.6              190.0       3650.0   \n",
       "\n",
       "   sex_MALE  cluster  \n",
       "0      True        2  \n",
       "1     False        1  \n",
       "2     False        1  \n",
       "3     False        1  \n",
       "4      True        2  "
      ]
     },
     "execution_count": 22,
     "metadata": {},
     "output_type": "execute_result"
    }
   ],
   "source": [
    "# Create a new column `cluster`.\n",
    "\n",
    "penguins_subset['cluster'] = kmeans6.labels_\n",
    "penguins_subset.head()"
   ]
  },
  {
   "cell_type": "markdown",
   "id": "7d335e21",
   "metadata": {
    "id": "0c3fe6a3",
    "papermill": {
     "duration": 0.028981,
     "end_time": "2024-02-19T10:35:39.753223",
     "exception": false,
     "start_time": "2024-02-19T10:35:39.724242",
     "status": "completed"
    },
    "tags": []
   },
   "source": [
    "Use `groupby` to verify if any `'cluster'` can be differentiated by `'species'`."
   ]
  },
  {
   "cell_type": "code",
   "execution_count": 23,
   "id": "1b7c2a9b",
   "metadata": {
    "execution": {
     "iopub.execute_input": "2024-02-19T10:35:39.817025Z",
     "iopub.status.busy": "2024-02-19T10:35:39.815162Z",
     "iopub.status.idle": "2024-02-19T10:35:39.829137Z",
     "shell.execute_reply": "2024-02-19T10:35:39.827922Z"
    },
    "executionInfo": {
     "elapsed": 7,
     "status": "ok",
     "timestamp": 1659750069606,
     "user": {
      "displayName": "Gracen Hanley",
      "userId": "14517815644308397440"
     },
     "user_tz": 420
    },
    "id": "051b144d",
    "outputId": "270da5b7-637e-41ed-e999-f4e17ab2efab",
    "papermill": {
     "duration": 0.049319,
     "end_time": "2024-02-19T10:35:39.832039",
     "exception": false,
     "start_time": "2024-02-19T10:35:39.782720",
     "status": "completed"
    },
    "tags": []
   },
   "outputs": [
    {
     "data": {
      "text/plain": [
       "cluster  species  \n",
       "0        Gentoo       58\n",
       "1        Adelie       73\n",
       "         Chinstrap     5\n",
       "2        Adelie       71\n",
       "3        Adelie        2\n",
       "         Chinstrap    34\n",
       "4        Gentoo       61\n",
       "5        Chinstrap    29\n",
       "dtype: int64"
      ]
     },
     "execution_count": 23,
     "metadata": {},
     "output_type": "execute_result"
    }
   ],
   "source": [
    "# Verify if any `cluster` can be differentiated by `species`.\n",
    "\n",
    "penguins_subset.groupby(by=['cluster', 'species']).size()"
   ]
  },
  {
   "cell_type": "markdown",
   "id": "db6653c5",
   "metadata": {
    "id": "6cb2c53e",
    "papermill": {
     "duration": 0.031386,
     "end_time": "2024-02-19T10:35:39.894852",
     "exception": false,
     "start_time": "2024-02-19T10:35:39.863466",
     "status": "completed"
    },
    "tags": []
   },
   "source": [
    "<details>\n",
    "  <summary><h4><strong>Hint 1</strong></h4></summary>\n",
    "\n",
    "Use `groupby(by=['cluster', 'species'])`. \n",
    "\n",
    "</details>\n"
   ]
  },
  {
   "cell_type": "markdown",
   "id": "4f874922",
   "metadata": {
    "id": "f42d5be4",
    "papermill": {
     "duration": 0.029491,
     "end_time": "2024-02-19T10:35:39.954462",
     "exception": false,
     "start_time": "2024-02-19T10:35:39.924971",
     "status": "completed"
    },
    "tags": []
   },
   "source": [
    "<details>\n",
    "  <summary><h4><strong>Hint 2</strong></h4></summary>\n",
    "\n",
    "\n",
    "Use an aggregation function such as `size`.\n",
    "\n",
    "</details>"
   ]
  },
  {
   "cell_type": "markdown",
   "id": "99dd055b",
   "metadata": {
    "id": "QACZiuWYM59u",
    "papermill": {
     "duration": 0.029806,
     "end_time": "2024-02-19T10:35:40.013658",
     "exception": false,
     "start_time": "2024-02-19T10:35:39.983852",
     "status": "completed"
    },
    "tags": []
   },
   "source": [
    "Next, interpret the groupby outputs. Although the results of the groupby show that each `'cluster'` can be differentiated by `'species'`, it is useful to visualize these results. The graph shows that each `'cluster'` can be differentiated by `'species'`. \n",
    "\n",
    "**Note:** The code for the graph below is outside the scope of this lab. "
   ]
  },
  {
   "cell_type": "code",
   "execution_count": 24,
   "id": "b90459c2",
   "metadata": {
    "execution": {
     "iopub.execute_input": "2024-02-19T10:35:40.074975Z",
     "iopub.status.busy": "2024-02-19T10:35:40.074309Z",
     "iopub.status.idle": "2024-02-19T10:35:40.406403Z",
     "shell.execute_reply": "2024-02-19T10:35:40.405272Z"
    },
    "executionInfo": {
     "elapsed": 500,
     "status": "ok",
     "timestamp": 1659750070101,
     "user": {
      "displayName": "Gracen Hanley",
      "userId": "14517815644308397440"
     },
     "user_tz": 420
    },
    "id": "ScRX4uWfNqo6",
    "outputId": "ea55e742-e819-49b4-da79-ddb9adf0a398",
    "papermill": {
     "duration": 0.365423,
     "end_time": "2024-02-19T10:35:40.409112",
     "exception": false,
     "start_time": "2024-02-19T10:35:40.043689",
     "status": "completed"
    },
    "tags": []
   },
   "outputs": [
    {
     "data": {
      "image/png": "[encoded data removed]",
      "text/plain": [
       "<Figure size 600x500 with 1 Axes>"
      ]
     },
     "metadata": {},
     "output_type": "display_data"
    }
   ],
   "source": [
    "penguins_subset.groupby(by=['cluster', 'species']).size().plot.bar(title='Clusters differentiated by species',\n",
    "                                                                   figsize=(6, 5),\n",
    "                                                                   ylabel='Size',\n",
    "                                                                   xlabel='(Cluster, Species)');"
   ]
  },
  {
   "cell_type": "markdown",
   "id": "10dcbf7a",
   "metadata": {
    "id": "f1b82368",
    "papermill": {
     "duration": 0.030562,
     "end_time": "2024-02-19T10:35:40.470027",
     "exception": false,
     "start_time": "2024-02-19T10:35:40.439465",
     "status": "completed"
    },
    "tags": []
   },
   "source": [
    "Use `groupby` to verify if each `'cluster'` can be differentiated by `'species'` AND `'sex_MALE'`."
   ]
  },
  {
   "cell_type": "code",
   "execution_count": 25,
   "id": "41fa28dd",
   "metadata": {
    "execution": {
     "iopub.execute_input": "2024-02-19T10:35:40.533386Z",
     "iopub.status.busy": "2024-02-19T10:35:40.532702Z",
     "iopub.status.idle": "2024-02-19T10:35:40.544604Z",
     "shell.execute_reply": "2024-02-19T10:35:40.543456Z"
    },
    "executionInfo": {
     "elapsed": 6,
     "status": "ok",
     "timestamp": 1659750070101,
     "user": {
      "displayName": "Gracen Hanley",
      "userId": "14517815644308397440"
     },
     "user_tz": 420
    },
    "id": "2cf5adc2",
    "outputId": "6f80dff9-3882-4d88-cbc8-4c19032db1ec",
    "papermill": {
     "duration": 0.046767,
     "end_time": "2024-02-19T10:35:40.546914",
     "exception": false,
     "start_time": "2024-02-19T10:35:40.500147",
     "status": "completed"
    },
    "tags": []
   },
   "outputs": [
    {
     "data": {
      "text/plain": [
       "cluster  species    sex_MALE\n",
       "1        Adelie     False       73\n",
       "2        Adelie     True        71\n",
       "4        Gentoo     True        61\n",
       "0        Gentoo     False       58\n",
       "3        Chinstrap  True        34\n",
       "5        Chinstrap  False       29\n",
       "1        Chinstrap  False        5\n",
       "3        Adelie     True         2\n",
       "dtype: int64"
      ]
     },
     "execution_count": 25,
     "metadata": {},
     "output_type": "execute_result"
    }
   ],
   "source": [
    "# Verify if each `cluster` can be differentiated by `species` AND `sex_MALE`.\n",
    "\n",
    "penguins_subset.groupby(by=['cluster','species', 'sex_MALE']).size().sort_values(ascending = False)"
   ]
  },
  {
   "cell_type": "markdown",
   "id": "1b05c475",
   "metadata": {
    "id": "f0ad7c32",
    "papermill": {
     "duration": 0.030249,
     "end_time": "2024-02-19T10:35:40.607625",
     "exception": false,
     "start_time": "2024-02-19T10:35:40.577376",
     "status": "completed"
    },
    "tags": []
   },
   "source": [
    "<details>\n",
    "  <summary><h4><strong>Hint 1</strong></h4></summary>\n",
    "\n",
    "Use `groupby(by=['cluster','species', 'sex_MALE'])`. \n",
    "</details>\n"
   ]
  },
  {
   "cell_type": "markdown",
   "id": "8380ff3b",
   "metadata": {
    "id": "d667d4ce",
    "papermill": {
     "duration": 0.029565,
     "end_time": "2024-02-19T10:35:40.668178",
     "exception": false,
     "start_time": "2024-02-19T10:35:40.638613",
     "status": "completed"
    },
    "tags": []
   },
   "source": [
    "<details>\n",
    "  <summary><h4><strong>Hint 2</strong></h4></summary>\n",
    "\n",
    "Use an aggregation function such as `size`.\n",
    "</details>"
   ]
  },
  {
   "cell_type": "markdown",
   "id": "bf9c1a77",
   "metadata": {
    "id": "ae471434",
    "papermill": {
     "duration": 0.029985,
     "end_time": "2024-02-19T10:35:40.729619",
     "exception": false,
     "start_time": "2024-02-19T10:35:40.699634",
     "status": "completed"
    },
    "tags": []
   },
   "source": [
    "**Question:** Are the clusters differentiated by `'species'` and `'sex_MALE'`?\n",
    "\n",
    "Even though clusters 1 and 3 weren't all one species or sex, the `groupby` indicates that the algorithm produced clusters mostly differentiated by species and sex. "
   ]
  },
  {
   "cell_type": "markdown",
   "id": "090469a4",
   "metadata": {
    "id": "cZ2nyRt7cqbH",
    "papermill": {
     "duration": 0.031591,
     "end_time": "2024-02-19T10:35:40.790998",
     "exception": false,
     "start_time": "2024-02-19T10:35:40.759407",
     "status": "completed"
    },
    "tags": []
   },
   "source": [
    "Finally, interpret the groupby outputs and visualize these results. The graph shows that each `'cluster'` can be differentiated by `'species'` and `'sex_MALE'`. Furthermore, each cluster is mostly comprised of one sex and one species. \n",
    "\n",
    "**Note:** The code for the graph below is outside the scope of this lab. "
   ]
  },
  {
   "cell_type": "code",
   "execution_count": 26,
   "id": "805da45d",
   "metadata": {
    "execution": {
     "iopub.execute_input": "2024-02-19T10:35:40.855625Z",
     "iopub.status.busy": "2024-02-19T10:35:40.854387Z",
     "iopub.status.idle": "2024-02-19T10:35:41.253351Z",
     "shell.execute_reply": "2024-02-19T10:35:41.252044Z"
    },
    "executionInfo": {
     "elapsed": 649,
     "status": "ok",
     "timestamp": 1659750070746,
     "user": {
      "displayName": "Gracen Hanley",
      "userId": "14517815644308397440"
     },
     "user_tz": 420
    },
    "id": "Xw-g03su8_4Z",
    "outputId": "10c8fe4e-8cfd-4963-f535-7d6029e4d4af",
    "papermill": {
     "duration": 0.433713,
     "end_time": "2024-02-19T10:35:41.256031",
     "exception": false,
     "start_time": "2024-02-19T10:35:40.822318",
     "status": "completed"
    },
    "tags": []
   },
   "outputs": [
    {
     "data": {
      "text/plain": [
       "<matplotlib.legend.Legend at 0x7958ff43f2e0>"
      ]
     },
     "execution_count": 26,
     "metadata": {},
     "output_type": "execute_result"
    },
    {
     "data": {
      "image/png": "[encoded data removed]",
      "text/plain": [
       "<Figure size 600x500 with 1 Axes>"
      ]
     },
     "metadata": {},
     "output_type": "display_data"
    }
   ],
   "source": [
    "penguins_subset.groupby(by=['cluster','species','sex_MALE']).size().unstack(level = 'species', fill_value=0).plot.bar(title='Clusters differentiated by species and sex',\n",
    "                                                                                                                      figsize=(6, 5),\n",
    "                                                                                                                      ylabel='Size',\n",
    "                                                                                                                      xlabel='(Cluster, Sex)')\n",
    "plt.legend(bbox_to_anchor=(1.3, 1.0))"
   ]
  },
  {
   "cell_type": "markdown",
   "id": "0dd200b2",
   "metadata": {
    "id": "4DRcgiMgM1HP",
    "papermill": {
     "duration": 0.030246,
     "end_time": "2024-02-19T10:35:41.318082",
     "exception": false,
     "start_time": "2024-02-19T10:35:41.287836",
     "status": "completed"
    },
    "tags": []
   },
   "source": [
    "## **Considerations**\n",
    "\n",
    "**What are some key takeaways that you learned during this lab? Consider the process you used, key tools, and the results of your investigation.**\n",
    "-   Many machine learning workflows are about cleaning, encoding, and scaling data.\n",
    "-   Inertia and silhouette score can be used to find the optimal value of clusters.\n",
    "-   Clusters can find natural groupings in data. \n",
    "-   The clusters in this lab are mostly differentiated by species and sex as shown by the groupby results and corresponding graphs. \n",
    "-   The elbow plot and especially the silhouette scores suggests that 6 clusters are optimal for this data.\n",
    "-   Having 6 clusters makes sense because the study suggests that there is sexual dimorphism (differences between the sexes) for each of the three species (2 sexes * 3 different species = 6 clusters).\n",
    "\n",
    "**What summary would you provide to stakeholders?**\n",
    "*  The K-means clustering enabled this data to be effectively grouped. It helped identify patterns that can educate team members about penguins.\n",
    "*  The success of the cluster results suggests that the organization can apply clustering to other projects and continue augmenting employee education.\n",
    "\n",
    "\n",
    "\n"
   ]
  }
 ],
 "metadata": {
  "colab": {
   "collapsed_sections": [],
   "provenance": [],
   "toc_visible": true
  },
  "gpuClass": "standard",
  "kaggle": {
   "accelerator": "none",
   "dataSources": [
    {
     "datasetId": 4288060,
     "sourceId": 7378861,
     "sourceType": "datasetVersion"
    },
    {
     "datasetId": 4463124,
     "sourceId": 7655234,
     "sourceType": "datasetVersion"
    }
   ],
   "dockerImageVersionId": 30646,
   "isGpuEnabled": false,
   "isInternetEnabled": true,
   "language": "python",
   "sourceType": "notebook"
  },
  "kernelspec": {
   "display_name": "Python 3",
   "language": "python",
   "name": "python3"
  },
  "language_info": {
   "codemirror_mode": {
    "name": "ipython",
    "version": 3
   },
   "file_extension": ".py",
   "mimetype": "text/x-python",
   "name": "python",
   "nbconvert_exporter": "python",
   "pygments_lexer": "ipython3",
   "version": "3.10.13"
  },
  "papermill": {
   "default_parameters": {},
   "duration": 16.495667,
   "end_time": "2024-02-19T10:35:42.071731",
   "environment_variables": {},
   "exception": null,
   "input_path": "__notebook__.ipynb",
   "output_path": "__notebook__.ipynb",
   "parameters": {},
   "start_time": "2024-02-19T10:35:25.576064",
   "version": "2.5.0"
  }
 },
 "nbformat": 4,
 "nbformat_minor": 5
}
